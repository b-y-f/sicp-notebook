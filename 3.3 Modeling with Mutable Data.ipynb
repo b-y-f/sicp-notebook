{
 "cells": [
  {
   "cell_type": "markdown",
   "metadata": {},
   "source": [
    "# 3.3 Modeling with Mutable Data\n",
    "\n",
    "[Chapter 2](Chapter-2.xhtml#Chapter-2) dealt with compound data as a means for constructing computational objects that have several parts, in order to model real-world objects that have several aspects. In that chapter we introduced the discipline of data abstraction, according to which data structures are specified in terms of constructors, which create data objects, and selectors, which access the parts of compound data objects. But we now know that there is another aspect of data that chapter 2 did not address. The desire to model systems composed of objects that have changing state leads us to the need to modify compound data objects, as well as to construct and select from them. In order to model compound objects with changing state, we will design data abstractions to include, in addition to selectors and constructors, operations called *mutators*, which modify data objects. For instance, modeling a banking system requires us to change account balances. Thus, a data structure for representing bank accounts might admit an operation"
   ]
  },
  {
   "cell_type": "code",
   "execution_count": null,
   "metadata": {
    "attributes": {
     "classes": [
      "scheme"
     ],
     "id": ""
    }
   },
   "outputs": [],
   "source": [
    "(set-balance! ⟨account⟩ ⟨new-value⟩)"
   ]
  },
  {
   "cell_type": "markdown",
   "metadata": {},
   "source": [
    "that changes the balance of the designated account to the designated new value. Data objects for which mutators are defined are known as *mutable data objects*.\n",
    "\n",
    "Chapter 2 introduced pairs as a general-purpose “glue” for synthesizing compound data. We begin this section by defining basic mutators for pairs, so that pairs can serve as building blocks for constructing mutable data objects. These mutators greatly enhance the representational power of pairs, enabling us to build data structures other than the sequences and trees that we worked with in [2.2](2_002e2.xhtml#g_t2_002e2). We also present some examples of simulations in which complex systems are modeled as collections of objects with local state.\n",
    "\n",
    "\n",
    "## 3.3.1 Mutable List Structure\n",
    "\n",
    "The basic operations on pairs—`cons`, `car`, and `cdr`—can be used to construct list structure and to select parts from list structure, but they are incapable of modifying list structure. The same is true of the list operations we have used so far, such as `append` and `list`, since these can be defined in terms of `cons`, `car`, and `cdr`. To modify list structures we need new operations.\n",
    "\n",
    "The primitive mutators for pairs are `set-car!` and `set-cdr!`. `Set-car!` takes two arguments, the first of which must be a pair. It modifies this pair, replacing the `car` pointer by a pointer to the second argument of `set-car!`.^[`Set-car!` and `set-cdr!` return implementation-dependent values. Like `set!`, they should be used only for their effect.]\n",
    "\n",
    "As an example, suppose that `x` is bound to the list `((a b) c d)` and `y` to the list `(e f)` as illustrated in [Figure 3.12](#Figure-3_002e12). Evaluating the expression ` (set-car!  x y)` modifies the pair to which `x` is bound, replacing its `car` by the value of `y`. The result of the operation is shown in [Figure 3.13](#Figure-3_002e13). The structure `x` has been modified and would now be printed as `((e f) c d)`. The pairs representing the list `(a b)`, identified by the pointer that was replaced, are now detached from the original structure.^[We see from this that mutation operations on lists can create “garbage” that is not part of any accessible structure. We will see in [5.3.2](5_002e3.xhtml#g_t5_002e3_002e2) that Lisp memory-management systems include a *garbage collector*, which identifies and recycles the memory space used by unneeded pairs.]\n",
    "\n",
    "![](fig/chap3/Fig3.12b.std.svg 578.16x453.84)\n",
    "**Figure 3.12:** Lists `x`: `((a b) c d)` and `y`: `(e f)`.\n",
    "\n",
    "![](fig/chap3/Fig3.13b.std.svg 578.16x453.84)\n",
    "**Figure 3.13:** Effect of `(set-car! x y)` on the lists in [Figure 3.12](#Figure-3_002e12).\n",
    "\n",
    "Compare [Figure 3.13](#Figure-3_002e13) with [Figure 3.14](#Figure-3_002e14), which illustrates the result of executing `(define z (cons y (cdr x)))` with `x` and `y` bound to the original lists of [Figure 3.12](#Figure-3_002e12). The variable `z` is now bound to a new pair created by the `cons` operation; the list to which `x` is bound is unchanged.\n",
    "\n",
    "![](fig/chap3/Fig3.14b.std.svg 578.16x464.16)\n",
    "**Figure 3.14:** Effect of `(define z (cons y (cdr x)))` on the lists in [Figure 3.12](#Figure-3_002e12).\n",
    "\n",
    "The `set-cdr!` operation is similar to `set-car!`. The only difference is that the `cdr` pointer of the pair, rather than the `car` pointer, is replaced. The effect of executing `(set-cdr! x y)` on the lists of [Figure 3.12](#Figure-3_002e12) is shown in [Figure 3.15](#Figure-3_002e15). Here the `cdr` pointer of `x` has been replaced by the pointer to `(e f)`. Also, the list `(c d)`, which used to be the `cdr` of `x`, is now detached from the structure.\n",
    "\n",
    "![](fig/chap3/Fig3.15b.std.svg 578.16x453.84)\n",
    "**Figure 3.15:** Effect of `(set-cdr! x y)` on the lists in [Figure 3.12](#Figure-3_002e12).\n",
    "\n",
    "`Cons` builds new list structure by creating new pairs, while `set-car!` and `set-cdr!` modify existing pairs. Indeed, we could implement `cons` in terms of the two mutators, together with a procedure `get-new-pair`, which returns a new pair that is not part of any existing list structure. We obtain the new pair, set its `car` and `cdr` pointers to the designated objects, and return the new pair as the result of the `cons`.^[`Get-new-pair` is one of the operations that must be implemented as part of the memory management required by a Lisp implementation. We will discuss this in [5.3.1](5_002e3.xhtml#g_t5_002e3_002e1).]"
   ]
  },
  {
   "cell_type": "code",
   "execution_count": null,
   "metadata": {
    "attributes": {
     "classes": [
      "scheme"
     ],
     "id": ""
    }
   },
   "outputs": [],
   "source": [
    "(define (cons x y)\n",
    "  (let ((new (get-new-pair)))\n",
    "    (set-car! new x)\n",
    "    (set-cdr! new y)\n",
    "    new))"
   ]
  },
  {
   "cell_type": "markdown",
   "metadata": {},
   "source": [
    "**Exercise 3.12:** The following procedure for appending lists was introduced in [2.2.1](2_002e2.xhtml#g_t2_002e2_002e1):"
   ]
  },
  {
   "cell_type": "code",
   "execution_count": null,
   "metadata": {
    "attributes": {
     "classes": [
      "scheme"
     ],
     "id": ""
    }
   },
   "outputs": [],
   "source": [
    "(define (append x y)\n",
    "  (if (null? x)\n",
    "      y\n",
    "      (cons (car x) (append (cdr x) y))))"
   ]
  },
  {
   "cell_type": "markdown",
   "metadata": {},
   "source": [
    "`Append` forms a new list by successively `cons`ing the elements of `x` onto `y`. The procedure `append!` is similar to `append`, but it is a mutator rather than a constructor. It appends the lists by splicing them together, modifying the final pair of `x` so that its `cdr` is now `y`. (It is an error to call `append!` with an empty `x`.)"
   ]
  },
  {
   "cell_type": "code",
   "execution_count": null,
   "metadata": {
    "attributes": {
     "classes": [
      "scheme"
     ],
     "id": ""
    }
   },
   "outputs": [],
   "source": [
    "(define (append! x y)\n",
    "  (set-cdr! (last-pair x) y)\n",
    "  x)"
   ]
  },
  {
   "cell_type": "markdown",
   "metadata": {},
   "source": [
    "Here `last-pair` is a procedure that returns the last pair in its argument:"
   ]
  },
  {
   "cell_type": "code",
   "execution_count": null,
   "metadata": {
    "attributes": {
     "classes": [
      "scheme"
     ],
     "id": ""
    }
   },
   "outputs": [],
   "source": [
    "(define (last-pair x)\n",
    "  (if (null? (cdr x))\n",
    "      x\n",
    "      (last-pair (cdr x))))"
   ]
  },
  {
   "cell_type": "markdown",
   "metadata": {},
   "source": [
    "Consider the interaction"
   ]
  },
  {
   "cell_type": "code",
   "execution_count": null,
   "metadata": {
    "attributes": {
     "classes": [
      "scheme"
     ],
     "id": ""
    }
   },
   "outputs": [],
   "source": [
    "(define x (list 'a 'b))\n",
    "(define y (list 'c 'd))\n",
    "(define z (append x y))\n",
    "\n",
    "z\n",
    "(a b c d)\n",
    "\n",
    "(cdr x)\n",
    "⟨response⟩\n",
    "\n",
    "(define w (append! x y))\n",
    "\n",
    "w\n",
    "(a b c d)\n",
    "\n",
    "(cdr x)\n",
    "⟨response⟩"
   ]
  },
  {
   "cell_type": "markdown",
   "metadata": {},
   "source": [
    "What are the missing `⟨`response`⟩`s? Draw box-and-pointer diagrams to explain your answer.\n",
    "\n",
    "**Exercise 3.13:** Consider the following `make-cycle` procedure, which uses the `last-pair` procedure defined in [Exercise 3.12](#Exercise-3_002e12):"
   ]
  },
  {
   "cell_type": "code",
   "execution_count": null,
   "metadata": {
    "attributes": {
     "classes": [
      "scheme"
     ],
     "id": ""
    }
   },
   "outputs": [],
   "source": [
    "(define (make-cycle x)\n",
    "  (set-cdr! (last-pair x) x)\n",
    "  x)"
   ]
  },
  {
   "cell_type": "markdown",
   "metadata": {},
   "source": [
    "Draw a box-and-pointer diagram that shows the structure `z` created by"
   ]
  },
  {
   "cell_type": "code",
   "execution_count": null,
   "metadata": {
    "attributes": {
     "classes": [
      "scheme"
     ],
     "id": ""
    }
   },
   "outputs": [],
   "source": [
    "(define z (make-cycle (list 'a 'b 'c)))"
   ]
  },
  {
   "cell_type": "markdown",
   "metadata": {},
   "source": [
    "What happens if we try to compute `(last-pair z)`?\n",
    "\n",
    "**Exercise 3.14:** The following procedure is quite useful, although obscure:"
   ]
  },
  {
   "cell_type": "code",
   "execution_count": null,
   "metadata": {
    "attributes": {
     "classes": [
      "scheme"
     ],
     "id": ""
    }
   },
   "outputs": [],
   "source": [
    "(define (mystery x)\n",
    "  (define (loop x y)\n",
    "    (if (null? x)\n",
    "        y\n",
    "        (let ((temp (cdr x)))\n",
    "          (set-cdr! x y)\n",
    "          (loop temp x))))\n",
    "  (loop x '()))"
   ]
  },
  {
   "cell_type": "markdown",
   "metadata": {},
   "source": [
    "`Loop` uses the “temporary” variable `temp` to hold the old value of the `cdr` of `x`, since the `set-cdr!` on the next line destroys the `cdr`. Explain what `mystery` does in general. Suppose `v` is defined by `(define v (list 'a 'b 'c 'd))`. Draw the box-and-pointer diagram that represents the list to which `v` is bound. Suppose that we now evaluate `(define w (mystery v))`. Draw box-and-pointer diagrams that show the structures `v` and `w` after evaluating this expression. What would be printed as the values of `v` and `w`?\n",
    "\n",
    "\n",
    "### Sharing and identity\n",
    "\n",
    "We mentioned in [3.1.3](3_002e1.xhtml#g_t3_002e1_002e3) the theoretical issues of “sameness” and “change” raised by the introduction of assignment. These issues arise in practice when individual pairs are *shared* among different data objects. For example, consider the structure formed by"
   ]
  },
  {
   "cell_type": "code",
   "execution_count": null,
   "metadata": {
    "attributes": {
     "classes": [
      "scheme"
     ],
     "id": ""
    }
   },
   "outputs": [],
   "source": [
    "(define x (list 'a 'b))\n",
    "(define z1 (cons x x))"
   ]
  },
  {
   "cell_type": "markdown",
   "metadata": {},
   "source": [
    "As shown in [Figure 3.16](#Figure-3_002e16), `z1` is a pair whose `car` and `cdr` both point to the same pair `x`. This sharing of `x` by the `car` and `cdr` of `z1` is a consequence of the straightforward way in which `cons` is implemented. In general, using `cons` to construct lists will result in an interlinked structure of pairs in which many individual pairs are shared by many different structures.\n",
    "\n",
    "![](fig/chap3/Fig3.16b.std.svg 372.96x236.28)\n",
    "**Figure 3.16:** The list `z1` formed by `(cons x x)`.\n",
    "\n",
    "In contrast to [Figure 3.16](#Figure-3_002e16), [Figure 3.17](#Figure-3_002e17) shows the structure created by"
   ]
  },
  {
   "cell_type": "code",
   "execution_count": null,
   "metadata": {
    "attributes": {
     "classes": [
      "scheme"
     ],
     "id": ""
    }
   },
   "outputs": [],
   "source": [
    "(define z2 \n",
    "  (cons (list 'a 'b) (list 'a 'b)))"
   ]
  },
  {
   "cell_type": "markdown",
   "metadata": {},
   "source": [
    "![](fig/chap3/Fig3.17b.std.svg 570.84x215.52)\n",
    "**Figure 3.17:** The list `z2` formed by `(cons (list 'a 'b) (list 'a 'b))`.\n",
    "\n",
    "In this structure, the pairs in the two `(a b)` lists are distinct, although the actual symbols are shared.^[The two pairs are distinct because each call to `cons` returns a new pair. The symbols are shared; in Scheme there is a unique symbol with any given name. Since Scheme provides no way to mutate a symbol, this sharing is undetectable. Note also that the sharing is what enables us to compare symbols using `eq?`, which simply checks equality of pointers.]\n",
    "\n",
    "When thought of as a list, `z1` and `z2` both represent “the same” list, `((a b) a b)`. In general, sharing is completely undetectable if we operate on lists using only `cons`, `car`, and `cdr`. However, if we allow mutators on list structure, sharing becomes significant. As an example of the difference that sharing can make, consider the following procedure, which modifies the `car` of the structure to which it is applied:"
   ]
  },
  {
   "cell_type": "code",
   "execution_count": null,
   "metadata": {
    "attributes": {
     "classes": [
      "scheme"
     ],
     "id": ""
    }
   },
   "outputs": [],
   "source": [
    "(define (set-to-wow! x)\n",
    "  (set-car! (car x) 'wow)\n",
    "  x)"
   ]
  },
  {
   "cell_type": "markdown",
   "metadata": {},
   "source": [
    "Even though `z1` and `z2` are “the same” structure, applying `set-to-wow!` to them yields different results. With `z1`, altering the `car` also changes the `cdr`, because in `z1` the `car` and the `cdr` are the same pair. With `z2`, the `car` and `cdr` are distinct, so `set-to-wow!` modifies only the `car`:"
   ]
  },
  {
   "cell_type": "code",
   "execution_count": null,
   "metadata": {
    "attributes": {
     "classes": [
      "scheme"
     ],
     "id": ""
    }
   },
   "outputs": [],
   "source": [
    "z1\n",
    "((a b) a b)\n",
    "\n",
    "(set-to-wow! z1)\n",
    "((wow b) wow b)\n",
    "\n",
    "z2\n",
    "((a b) a b)\n",
    "\n",
    "(set-to-wow! z2)\n",
    "((wow b) a b)"
   ]
  },
  {
   "cell_type": "markdown",
   "metadata": {},
   "source": [
    "One way to detect sharing in list structures is to use the predicate `eq?`, which we introduced in [2.3.1](2_002e3.xhtml#g_t2_002e3_002e1) as a way to test whether two symbols are equal. More generally, `(eq?  x y)` tests whether `x` and `y` are the same object (that is, whether `x` and `y` are equal as pointers). Thus, with `z1` and `z2` as defined in [Figure 3.16](#Figure-3_002e16) and [Figure 3.17](#Figure-3_002e17), `(eq?  (car z1) (cdr z1))` is true and `(eq? (car z2) (cdr z2))` is false.\n",
    "\n",
    "As will be seen in the following sections, we can exploit sharing to greatly extend the repertoire of data structures that can be represented by pairs. On the other hand, sharing can also be dangerous, since modifications made to structures will also affect other structures that happen to share the modified parts. The mutation operations `set-car!` and `set-cdr!` should be used with care; unless we have a good understanding of how our data objects are shared, mutation can have unanticipated results.^[The subtleties of dealing with sharing of mutable data objects reflect the underlying issues of “sameness” and “change” that were raised in [3.1.3](3_002e1.xhtml#g_t3_002e1_002e3). We mentioned there that admitting change to our language requires that a compound object must have an “identity” that is something different from the pieces from which it is composed. In Lisp, we consider this “identity” to be the quality that is tested by `eq?`, i.e., by equality of pointers. Since in most Lisp implementations a pointer is essentially a memory address, we are “solving the problem” of defining the identity of objects by stipulating that a data object “itself” is the information stored in some particular set of memory locations in the computer. This suffices for simple Lisp programs, but is hardly a general way to resolve the issue of “sameness” in computational models.]\n",
    "\n",
    "**Exercise 3.15:** Draw box-and-pointer diagrams to explain the effect of `set-to-wow!` on the structures `z1` and `z2` above.\n",
    "\n",
    "**Exercise 3.16:** Ben Bitdiddle decides to write a procedure to count the number of pairs in any list structure. “It’s easy,” he reasons. “The number of pairs in any structure is the number in the `car` plus the number in the `cdr` plus one more to count the current pair.” So Ben writes the following procedure:"
   ]
  },
  {
   "cell_type": "code",
   "execution_count": null,
   "metadata": {
    "attributes": {
     "classes": [
      "scheme"
     ],
     "id": ""
    }
   },
   "outputs": [],
   "source": [
    "(define (count-pairs x)\n",
    "  (if (not (pair? x))\n",
    "      0\n",
    "      (+ (count-pairs (car x))\n",
    "         (count-pairs (cdr x))\n",
    "         1)))"
   ]
  },
  {
   "cell_type": "markdown",
   "metadata": {},
   "source": [
    "Show that this procedure is not correct. In particular, draw box-and-pointer diagrams representing list structures made up of exactly three pairs for which Ben’s procedure would return 3; return 4; return 7; never return at all.\n",
    "\n",
    "**Exercise 3.17:** Devise a correct version of the `count-pairs` procedure of [Exercise 3.16](#Exercise-3_002e16) that returns the number of distinct pairs in any structure. (Hint: Traverse the structure, maintaining an auxiliary data structure that is used to keep track of which pairs have already been counted.)\n",
    "\n",
    "**Exercise 3.18:** Write a procedure that examines a list and determines whether it contains a cycle, that is, whether a program that tried to find the end of the list by taking successive `cdr`s would go into an infinite loop. [Exercise 3.13](#Exercise-3_002e13) constructed such lists.\n",
    "\n",
    "**Exercise 3.19:** Redo [Exercise 3.18](#Exercise-3_002e18) using an algorithm that takes only a constant amount of space. (This requires a very clever idea.)\n",
    "\n",
    "\n",
    "### Mutation is just assignment\n",
    "\n",
    "When we introduced compound data, we observed in [2.1.3](2_002e1.xhtml#g_t2_002e1_002e3) that pairs can be represented purely in terms of procedures:"
   ]
  },
  {
   "cell_type": "code",
   "execution_count": null,
   "metadata": {
    "attributes": {
     "classes": [
      "scheme"
     ],
     "id": ""
    }
   },
   "outputs": [],
   "source": [
    "(define (cons x y)\n",
    "  (define (dispatch m)\n",
    "    (cond ((eq? m 'car) x)\n",
    "          ((eq? m 'cdr) y)\n",
    "          (else (error \"Undefined \n",
    "                 operation: CONS\" m))))\n",
    "  dispatch)\n",
    "\n",
    "(define (car z) (z 'car))\n",
    "(define (cdr z) (z 'cdr))"
   ]
  },
  {
   "cell_type": "markdown",
   "metadata": {},
   "source": [
    "The same observation is true for mutable data. We can implement mutable data objects as procedures using assignment and local state. For instance, we can extend the above pair implementation to handle `set-car!` and `set-cdr!` in a manner analogous to the way we implemented bank accounts using `make-account` in [3.1.1](3_002e1.xhtml#g_t3_002e1_002e1):"
   ]
  },
  {
   "cell_type": "code",
   "execution_count": null,
   "metadata": {
    "attributes": {
     "classes": [
      "scheme"
     ],
     "id": ""
    }
   },
   "outputs": [],
   "source": [
    "(define (cons x y)\n",
    "  (define (set-x! v) (set! x v))\n",
    "  (define (set-y! v) (set! y v))\n",
    "  (define (dispatch m)\n",
    "    (cond ((eq? m 'car) x)\n",
    "          ((eq? m 'cdr) y)\n",
    "          ((eq? m 'set-car!) set-x!)\n",
    "          ((eq? m 'set-cdr!) set-y!)\n",
    "          (else (error \"Undefined \n",
    "                 operation: CONS\" m))))\n",
    "  dispatch)\n",
    "\n",
    "(define (car z) (z 'car))\n",
    "(define (cdr z) (z 'cdr))\n",
    "\n",
    "(define (set-car! z new-value)\n",
    "  ((z 'set-car!) new-value)\n",
    "  z)\n",
    "\n",
    "(define (set-cdr! z new-value)\n",
    "  ((z 'set-cdr!) new-value)\n",
    "  z)"
   ]
  },
  {
   "cell_type": "markdown",
   "metadata": {},
   "source": [
    "Assignment is all that is needed, theoretically, to account for the behavior of mutable data. As soon as we admit `set!` to our language, we raise all the issues, not only of assignment, but of mutable data in general.^[On the other hand, from the viewpoint of implementation, assignment requires us to modify the environment, which is itself a mutable data structure. Thus, assignment and mutation are equipotent: Each can be implemented in terms of the other.]\n",
    "\n",
    "**Exercise 3.20:** Draw environment diagrams to illustrate the evaluation of the sequence of expressions"
   ]
  },
  {
   "cell_type": "code",
   "execution_count": null,
   "metadata": {
    "attributes": {
     "classes": [
      "scheme"
     ],
     "id": ""
    }
   },
   "outputs": [],
   "source": [
    "(define x (cons 1 2))\n",
    "(define z (cons x x))\n",
    "\n",
    "(set-car! (cdr z) 17)\n",
    "\n",
    "(car x)\n",
    "17"
   ]
  },
  {
   "cell_type": "markdown",
   "metadata": {},
   "source": [
    "using the procedural implementation of pairs given above. (Compare [Exercise 3.11](3_002e2.xhtml#Exercise-3_002e11).)\n",
    "\n",
    "\n",
    "## 3.3.2 Representing Queues\n",
    "\n",
    "The mutators `set-car!` and `set-cdr!` enable us to use pairs to construct data structures that cannot be built with `cons`, `car`, and `cdr` alone. This section shows how to use pairs to represent a data structure called a queue. Section [3.3.3](#g_t3_002e3_002e3) will show how to represent data structures called tables.\n",
    "\n",
    "A *queue* is a sequence in which items are inserted at one end (called the *rear* of the queue) and deleted from the other end (the *front*). [Figure 3.18](#Figure-3_002e18) shows an initially empty queue in which the items `a` and `b` are inserted. Then `a` is removed, `c` and `d` are inserted, and `b` is removed. Because items are always removed in the order in which they are inserted, a queue is sometimes called a *FIFO* (first in, first out) buffer.\n",
    "\n",
    "![](fig/chap3/Fig3.18.std.svg 576.12x276.6)\n",
    "**Figure 3.18:** Queue operations.\n",
    "\n",
    "In terms of data abstraction, we can regard a queue as defined by the following set of operations:\n",
    "\n",
    "- a constructor: `(make-queue)` returns an empty queue (a queue containing no items).\n",
    "- two selectors:"
   ]
  },
  {
   "cell_type": "code",
   "execution_count": null,
   "metadata": {},
   "outputs": [],
   "source": [
    "``` {.scheme}\n",
    "(empty-queue? ⟨queue⟩)\n",
    "```\n",
    "\n",
    "tests if the queue is empty.\n",
    "\n",
    "``` {.scheme}\n",
    "(front-queue ⟨queue⟩)\n",
    "```\n",
    "\n",
    "returns the object at the front of the queue, signaling an error if the queue is empty; it does not modify the queue."
   ]
  },
  {
   "cell_type": "markdown",
   "metadata": {},
   "source": [
    "- two mutators:"
   ]
  },
  {
   "cell_type": "code",
   "execution_count": null,
   "metadata": {},
   "outputs": [],
   "source": [
    "``` {.scheme}\n",
    "(insert-queue! ⟨queue⟩ ⟨item⟩)\n",
    "```\n",
    "\n",
    "inserts the item at the rear of the queue and returns the modified queue as its value.\n",
    "\n",
    "``` {.scheme}\n",
    "(delete-queue! ⟨queue⟩)\n",
    "```\n",
    "\n",
    "removes the item at the front of the queue and returns the modified queue as its value, signaling an error if the queue is empty before the deletion."
   ]
  },
  {
   "cell_type": "markdown",
   "metadata": {},
   "source": [
    "Because a queue is a sequence of items, we could certainly represent it as an ordinary list; the front of the queue would be the `car` of the list, inserting an item in the queue would amount to appending a new element at the end of the list, and deleting an item from the queue would just be taking the `cdr` of the list. However, this representation is inefficient, because in order to insert an item we must scan the list until we reach the end. Since the only method we have for scanning a list is by successive `cdr` operations, this scanning requires $\\Theta(n)$ steps for a list of $n$ items. A simple modification to the list representation overcomes this disadvantage by allowing the queue operations to be implemented so that they require $\\Theta(1)$ steps; that is, so that the number of steps needed is independent of the length of the queue.\n",
    "\n",
    "The difficulty with the list representation arises from the need to scan to find the end of the list. The reason we need to scan is that, although the standard way of representing a list as a chain of pairs readily provides us with a pointer to the beginning of the list, it gives us no easily accessible pointer to the end. The modification that avoids the drawback is to represent the queue as a list, together with an additional pointer that indicates the final pair in the list. That way, when we go to insert an item, we can consult the rear pointer and so avoid scanning the list.\n",
    "\n",
    "A queue is represented, then, as a pair of pointers, `front-ptr` and `rear-ptr`, which indicate, respectively, the first and last pairs in an ordinary list. Since we would like the queue to be an identifiable object, we can use `cons` to combine the two pointers. Thus, the queue itself will be the `cons` of the two pointers. [Figure 3.19](#Figure-3_002e19) illustrates this representation.\n",
    "\n",
    "![](fig/chap3/Fig3.19b.std.svg 558.48x269.4)\n",
    "**Figure 3.19:** Implementation of a queue as a list with front and rear pointers.\n",
    "\n",
    "To define the queue operations we use the following procedures, which enable us to select and to modify the front and rear pointers of a queue:"
   ]
  },
  {
   "cell_type": "code",
   "execution_count": null,
   "metadata": {
    "attributes": {
     "classes": [
      "scheme"
     ],
     "id": ""
    }
   },
   "outputs": [],
   "source": [
    "(define (front-ptr queue) (car queue))\n",
    "(define (rear-ptr queue) (cdr queue))\n",
    "(define (set-front-ptr! queue item) \n",
    "  (set-car! queue item))\n",
    "(define (set-rear-ptr! queue item) \n",
    "  (set-cdr! queue item))"
   ]
  },
  {
   "cell_type": "markdown",
   "metadata": {},
   "source": [
    "Now we can implement the actual queue operations. We will consider a queue to be empty if its front pointer is the empty list:"
   ]
  },
  {
   "cell_type": "code",
   "execution_count": null,
   "metadata": {
    "attributes": {
     "classes": [
      "scheme"
     ],
     "id": ""
    }
   },
   "outputs": [],
   "source": [
    "(define (empty-queue? queue) \n",
    "  (null? (front-ptr queue)))"
   ]
  },
  {
   "cell_type": "markdown",
   "metadata": {},
   "source": [
    "The `make-queue` constructor returns, as an initially empty queue, a pair whose `car` and `cdr` are both the empty list:"
   ]
  },
  {
   "cell_type": "code",
   "execution_count": null,
   "metadata": {
    "attributes": {
     "classes": [
      "scheme"
     ],
     "id": ""
    }
   },
   "outputs": [],
   "source": [
    "(define (make-queue) (cons '() '()))"
   ]
  },
  {
   "cell_type": "markdown",
   "metadata": {},
   "source": [
    "To select the item at the front of the queue, we return the `car` of the pair indicated by the front pointer:"
   ]
  },
  {
   "cell_type": "code",
   "execution_count": null,
   "metadata": {
    "attributes": {
     "classes": [
      "scheme"
     ],
     "id": ""
    }
   },
   "outputs": [],
   "source": [
    "(define (front-queue queue)\n",
    "  (if (empty-queue? queue)\n",
    "      (error \"FRONT called with an \n",
    "              empty queue\" queue)\n",
    "      (car (front-ptr queue))))"
   ]
  },
  {
   "cell_type": "markdown",
   "metadata": {},
   "source": [
    "To insert an item in a queue, we follow the method whose result is indicated in [Figure 3.20](#Figure-3_002e20). We first create a new pair whose `car` is the item to be inserted and whose `cdr` is the empty list. If the queue was initially empty, we set the front and rear pointers of the queue to this new pair. Otherwise, we modify the final pair in the queue to point to the new pair, and also set the rear pointer to the new pair.\n",
    "\n",
    "![](fig/chap3/Fig3.20c.std.svg 661.08x269.4)\n",
    "**Figure 3.20:** Result of using `(insert-queue! q 'd)` on the queue of [Figure 3.19](#Figure-3_002e19)."
   ]
  },
  {
   "cell_type": "code",
   "execution_count": null,
   "metadata": {
    "attributes": {
     "classes": [
      "scheme"
     ],
     "id": ""
    }
   },
   "outputs": [],
   "source": [
    "(define (insert-queue! queue item)\n",
    "  (let ((new-pair (cons item '())))\n",
    "    (cond ((empty-queue? queue)\n",
    "           (set-front-ptr! queue new-pair)\n",
    "           (set-rear-ptr! queue new-pair)\n",
    "           queue)\n",
    "          (else (set-cdr! (rear-ptr queue) \n",
    "                          new-pair)\n",
    "                (set-rear-ptr! queue new-pair)\n",
    "                queue))))"
   ]
  },
  {
   "cell_type": "markdown",
   "metadata": {},
   "source": [
    "To delete the item at the front of the queue, we merely modify the front pointer so that it now points at the second item in the queue, which can be found by following the `cdr` pointer of the first item (see [Figure 3.21](#Figure-3_002e21)):^[If the first item is the final item in the queue, the front pointer will be the empty list after the deletion, which will mark the queue as empty; we needn’t worry about updating the rear pointer, which will still point to the deleted item, because `empty-queue?` looks only at the front pointer.]"
   ]
  },
  {
   "cell_type": "code",
   "execution_count": null,
   "metadata": {
    "attributes": {
     "classes": [
      "scheme"
     ],
     "id": ""
    }
   },
   "outputs": [],
   "source": [
    "(define (delete-queue! queue)\n",
    "  (cond ((empty-queue? queue)\n",
    "         (error \"DELETE! called with \n",
    "                 an empty queue\" queue))\n",
    "        (else (set-front-ptr! \n",
    "               queue \n",
    "               (cdr (front-ptr queue)))\n",
    "              queue)))"
   ]
  },
  {
   "cell_type": "markdown",
   "metadata": {},
   "source": [
    "![](fig/chap3/Fig3.21c.std.svg 661.08x269.4)\n",
    "**Figure 3.21:** Result of using `(delete-queue!  q)` on the queue of [Figure 3.20](#Figure-3_002e20).\n",
    "\n",
    "**Exercise 3.21:** Ben Bitdiddle decides to test the queue implementation described above. He types in the procedures to the Lisp interpreter and proceeds to try them out:"
   ]
  },
  {
   "cell_type": "code",
   "execution_count": null,
   "metadata": {
    "attributes": {
     "classes": [
      "scheme"
     ],
     "id": ""
    }
   },
   "outputs": [],
   "source": [
    "(define q1 (make-queue))\n",
    "\n",
    "(insert-queue! q1 'a)\n",
    "((a) a)\n",
    "\n",
    "(insert-queue! q1 'b)\n",
    "((a b) b)\n",
    "\n",
    "(delete-queue! q1)\n",
    "((b) b)\n",
    "\n",
    "(delete-queue! q1)\n",
    "(() b)"
   ]
  },
  {
   "cell_type": "markdown",
   "metadata": {},
   "source": [
    "“It’s all wrong!” he complains. “The interpreter’s response shows that the last item is inserted into the queue twice. And when I delete both items, the second `b` is still there, so the queue isn’t empty, even though it’s supposed to be.” Eva Lu Ator suggests that Ben has misunderstood what is happening. “It’s not that the items are going into the queue twice,” she explains. “It’s just that the standard Lisp printer doesn’t know how to make sense of the queue representation. If you want to see the queue printed correctly, you’ll have to define your own print procedure for queues.” Explain what Eva Lu is talking about. In particular, show why Ben’s examples produce the printed results that they do. Define a procedure `print-queue` that takes a queue as input and prints the sequence of items in the queue.\n",
    "\n",
    "**Exercise 3.22:** Instead of representing a queue as a pair of pointers, we can build a queue as a procedure with local state. The local state will consist of pointers to the beginning and the end of an ordinary list. Thus, the `make-queue` procedure will have the form"
   ]
  },
  {
   "cell_type": "code",
   "execution_count": null,
   "metadata": {
    "attributes": {
     "classes": [
      "scheme"
     ],
     "id": ""
    }
   },
   "outputs": [],
   "source": [
    "(define (make-queue)\n",
    "  (let ((front-ptr … )\n",
    "        (rear-ptr … ))\n",
    "    ⟨definitions of internal procedures⟩\n",
    "    (define (dispatch m) …)\n",
    "    dispatch))"
   ]
  },
  {
   "cell_type": "markdown",
   "metadata": {},
   "source": [
    "Complete the definition of `make-queue` and provide implementations of the queue operations using this representation.\n",
    "\n",
    "**Exercise 3.23:** A *deque* (“double-ended queue”) is a sequence in which items can be inserted and deleted at either the front or the rear. Operations on deques are the constructor `make-deque`, the predicate `empty-deque?`, selectors `front-deque` and `rear-deque`, and mutators `front-insert-deque!`, `rear-insert-deque!`, `front-delete-deque!`, `rear-delete-deque!`. Show how to represent deques using pairs, and give implementations of the operations.^[Be careful not to make the interpreter try to print a structure that contains cycles. (See [Exercise 3.13](#Exercise-3_002e13).)] All operations should be accomplished in $\\Theta(1)$ steps.\n",
    "\n",
    "\n",
    "## 3.3.3 Representing Tables\n",
    "\n",
    "When we studied various ways of representing sets in [Chapter 2](Chapter-2.xhtml#Chapter-2), we mentioned in [2.3.3](2_002e3.xhtml#g_t2_002e3_002e3) the task of maintaining a table of records indexed by identifying keys. In the implementation of data-directed programming in [2.4.3](2_002e4.xhtml#g_t2_002e4_002e3), we made extensive use of two-dimensional tables, in which information is stored and retrieved using two keys. Here we see how to build tables as mutable list structures.\n",
    "\n",
    "We first consider a one-dimensional table, in which each value is stored under a single key. We implement the table as a list of records, each of which is implemented as a pair consisting of a key and the associated value. The records are glued together to form a list by pairs whose `car`s point to successive records. These gluing pairs are called the *backbone* of the table. In order to have a place that we can change when we add a new record to the table, we build the table as a *headed list*. A headed list has a special backbone pair at the beginning, which holds a dummy “record”—in this case the arbitrarily chosen symbol `*table*`. [Figure 3.22](#Figure-3_002e22) shows the box-and-pointer diagram for the table"
   ]
  },
  {
   "cell_type": "code",
   "execution_count": null,
   "metadata": {
    "attributes": {
     "classes": [
      "scheme"
     ],
     "id": ""
    }
   },
   "outputs": [],
   "source": [
    "a:  1\n",
    "b:  2\n",
    "c:  3"
   ]
  },
  {
   "cell_type": "markdown",
   "metadata": {},
   "source": [
    "![](fig/chap3/Fig3.22c.std.svg 639.24x325.32)\n",
    "**Figure 3.22:** A table represented as a headed list.\n",
    "\n",
    "To extract information from a table we use the `lookup` procedure, which takes a key as argument and returns the associated value (or false if there is no value stored under that key). `Lookup` is defined in terms of the `assoc` operation, which expects a key and a list of records as arguments. Note that `assoc` never sees the dummy record. `Assoc` returns the record that has the given key as its `car`.^[Because `assoc` uses `equal?`, it can recognize keys that are symbols, numbers, or list structure.] `Lookup` then checks to see that the resulting record returned by `assoc` is not false, and returns the value (the `cdr`) of the record."
   ]
  },
  {
   "cell_type": "code",
   "execution_count": null,
   "metadata": {
    "attributes": {
     "classes": [
      "scheme"
     ],
     "id": ""
    }
   },
   "outputs": [],
   "source": [
    "(define (lookup key table)\n",
    "  (let ((record (assoc key (cdr table))))\n",
    "    (if record\n",
    "        (cdr record)\n",
    "        false)))\n",
    "\n",
    "(define (assoc key records)\n",
    "  (cond ((null? records) false)\n",
    "        ((equal? key (caar records)) \n",
    "         (car records))\n",
    "        (else (assoc key (cdr records)))))"
   ]
  },
  {
   "cell_type": "markdown",
   "metadata": {},
   "source": [
    "To insert a value in a table under a specified key, we first use `assoc` to see if there is already a record in the table with this key. If not, we form a new record by `cons`ing the key with the value, and insert this at the head of the table’s list of records, after the dummy record. If there already is a record with this key, we set the `cdr` of this record to the designated new value. The header of the table provides us with a fixed location to modify in order to insert the new record.^[Thus, the first backbone pair is the object that represents the table “itself”; that is, a pointer to the table is a pointer to this pair. This same backbone pair always starts the table. If we did not arrange things in this way, `insert!` would have to return a new value for the start of the table when it added a new record.]"
   ]
  },
  {
   "cell_type": "code",
   "execution_count": null,
   "metadata": {
    "attributes": {
     "classes": [
      "scheme"
     ],
     "id": ""
    }
   },
   "outputs": [],
   "source": [
    "(define (insert! key value table)\n",
    "  (let ((record (assoc key (cdr table))))\n",
    "    (if record\n",
    "        (set-cdr! record value)\n",
    "        (set-cdr! table\n",
    "                  (cons (cons key value) \n",
    "                        (cdr table)))))\n",
    "  'ok)"
   ]
  },
  {
   "cell_type": "markdown",
   "metadata": {},
   "source": [
    "To construct a new table, we simply create a list containing the symbol `*table*`:"
   ]
  },
  {
   "cell_type": "code",
   "execution_count": null,
   "metadata": {
    "attributes": {
     "classes": [
      "scheme"
     ],
     "id": ""
    }
   },
   "outputs": [],
   "source": [
    "(define (make-table)\n",
    "  (list '*table*))"
   ]
  },
  {
   "cell_type": "markdown",
   "metadata": {},
   "source": [
    "### Two-dimensional tables\n",
    "\n",
    "In a two-dimensional table, each value is indexed by two keys. We can construct such a table as a one-dimensional table in which each key identifies a subtable. [Figure 3.23](#Figure-3_002e23) shows the box-and-pointer diagram for the table"
   ]
  },
  {
   "cell_type": "code",
   "execution_count": null,
   "metadata": {
    "attributes": {
     "classes": [
      "example"
     ],
     "id": ""
    }
   },
   "outputs": [],
   "source": [
    "math:  +: 43    letters:  a: 97\n",
    "       -: 45              b: 98\n",
    "       *: 42"
   ]
  },
  {
   "cell_type": "markdown",
   "metadata": {},
   "source": [
    "which has two subtables. (The subtables don’t need a special header symbol, since the key that identifies the subtable serves this purpose.)\n",
    "\n",
    "![](fig/chap3/Fig3.23b.std.svg 689.04x671.4)\n",
    "**Figure 3.23:** A two-dimensional table.\n",
    "\n",
    "When we look up an item, we use the first key to identify the correct subtable. Then we use the second key to identify the record within the subtable."
   ]
  },
  {
   "cell_type": "code",
   "execution_count": null,
   "metadata": {
    "attributes": {
     "classes": [
      "scheme"
     ],
     "id": ""
    }
   },
   "outputs": [],
   "source": [
    "(define (lookup key-1 key-2 table)\n",
    "  (let ((subtable (assoc key-1 (cdr table))))\n",
    "    (if subtable\n",
    "        (let ((record \n",
    "               (assoc key-2 (cdr subtable))))\n",
    "          (if record (cdr record) false))\n",
    "        false)))"
   ]
  },
  {
   "cell_type": "markdown",
   "metadata": {},
   "source": [
    "To insert a new item under a pair of keys, we use `assoc` to see if there is a subtable stored under the first key. If not, we build a new subtable containing the single record (`key-2`, `value`) and insert it into the table under the first key. If a subtable already exists for the first key, we insert the new record into this subtable, using the insertion method for one-dimensional tables described above:"
   ]
  },
  {
   "cell_type": "code",
   "execution_count": null,
   "metadata": {
    "attributes": {
     "classes": [
      "scheme"
     ],
     "id": ""
    }
   },
   "outputs": [],
   "source": [
    "(define (insert! key-1 key-2 value table)\n",
    "  (let ((subtable (assoc key-1 (cdr table))))\n",
    "    (if subtable\n",
    "        (let ((record \n",
    "               (assoc key-2 (cdr subtable))))\n",
    "          (if record\n",
    "              (set-cdr! record value)\n",
    "              (set-cdr! \n",
    "               subtable\n",
    "               (cons (cons key-2 value)\n",
    "                     (cdr subtable)))))\n",
    "        (set-cdr! \n",
    "         table\n",
    "         (cons (list key-1 (cons key-2 value))\n",
    "               (cdr table)))))\n",
    "  'ok)"
   ]
  },
  {
   "cell_type": "markdown",
   "metadata": {},
   "source": [
    "### Creating local tables\n",
    "\n",
    "The `lookup` and `insert!` operations defined above take the table as an argument. This enables us to use programs that access more than one table. Another way to deal with multiple tables is to have separate `lookup` and `insert!` procedures for each table. We can do this by representing a table procedurally, as an object that maintains an internal table as part of its local state. When sent an appropriate message, this “table object” supplies the procedure with which to operate on the internal table. Here is a generator for two-dimensional tables represented in this fashion:"
   ]
  },
  {
   "cell_type": "code",
   "execution_count": null,
   "metadata": {
    "attributes": {
     "classes": [
      "scheme"
     ],
     "id": ""
    }
   },
   "outputs": [],
   "source": [
    "(define (make-table)\n",
    "  (let ((local-table (list '*table*)))\n",
    "    (define (lookup key-1 key-2)\n",
    "      (let ((subtable \n",
    "             (assoc key-1 (cdr local-table))))\n",
    "        (if subtable\n",
    "            (let ((record \n",
    "                   (assoc key-2 \n",
    "                          (cdr subtable))))\n",
    "              (if record (cdr record) false))\n",
    "            false)))\n",
    "    (define (insert! key-1 key-2 value)\n",
    "      (let ((subtable \n",
    "             (assoc key-1 (cdr local-table))))\n",
    "        (if subtable\n",
    "            (let ((record \n",
    "                   (assoc key-2 \n",
    "                          (cdr subtable))))\n",
    "              (if record\n",
    "                  (set-cdr! record value)\n",
    "                  (set-cdr! \n",
    "                   subtable\n",
    "                   (cons (cons key-2 value)\n",
    "                         (cdr subtable)))))\n",
    "            (set-cdr! \n",
    "             local-table\n",
    "             (cons (list key-1\n",
    "                         (cons key-2 value))\n",
    "                   (cdr local-table)))))\n",
    "      'ok)\n",
    "    (define (dispatch m)\n",
    "      (cond ((eq? m 'lookup-proc) lookup)\n",
    "            ((eq? m 'insert-proc!) insert!)\n",
    "            (else (error \"Unknown operation: \n",
    "                          TABLE\" m))))\n",
    "    dispatch))"
   ]
  },
  {
   "cell_type": "markdown",
   "metadata": {},
   "source": [
    "Using `make-table`, we could implement the `get` and `put` operations used in [2.4.3](2_002e4.xhtml#g_t2_002e4_002e3) for data-directed programming, as follows:"
   ]
  },
  {
   "cell_type": "code",
   "execution_count": null,
   "metadata": {
    "attributes": {
     "classes": [
      "scheme"
     ],
     "id": ""
    }
   },
   "outputs": [],
   "source": [
    "(define operation-table (make-table))\n",
    "(define get (operation-table 'lookup-proc))\n",
    "(define put (operation-table 'insert-proc!))"
   ]
  },
  {
   "cell_type": "markdown",
   "metadata": {},
   "source": [
    "`Get` takes as arguments two keys, and `put` takes as arguments two keys and a value. Both operations access the same local table, which is encapsulated within the object created by the call to `make-table`.\n",
    "\n",
    "**Exercise 3.24:** In the table implementations above, the keys are tested for equality using `equal?` (called by `assoc`). This is not always the appropriate test. For instance, we might have a table with numeric keys in which we don’t need an exact match to the number we’re looking up, but only a number within some tolerance of it. Design a table constructor `make-table` that takes as an argument a `same-key?` procedure that will be used to test “equality” of keys. `Make-table` should return a `dispatch` procedure that can be used to access appropriate `lookup` and `insert!` procedures for a local table.\n",
    "\n",
    "**Exercise 3.25:** Generalizing one- and two-dimensional tables, show how to implement a table in which values are stored under an arbitrary number of keys and different values may be stored under different numbers of keys. The `lookup` and `insert!` procedures should take as input a list of keys used to access the table.\n",
    "\n",
    "**Exercise 3.26:** To search a table as implemented above, one needs to scan through the list of records. This is basically the unordered list representation of [2.3.3](2_002e3.xhtml#g_t2_002e3_002e3). For large tables, it may be more efficient to structure the table in a different manner. Describe a table implementation where the (key, value) records are organized using a binary tree, assuming that keys can be ordered in some way (e.g., numerically or alphabetically). (Compare [Exercise 2.66](2_002e3.xhtml#Exercise-2_002e66) of [Chapter 2](Chapter-2.xhtml#Chapter-2).)\n",
    "\n",
    "**Exercise 3.27:** *Memoization* (also called *tabulation*) is a technique that enables a procedure to record, in a local table, values that have previously been computed. This technique can make a vast difference in the performance of a program. A memoized procedure maintains a table in which values of previous calls are stored using as keys the arguments that produced the values. When the memoized procedure is asked to compute a value, it first checks the table to see if the value is already there and, if so, just returns that value. Otherwise, it computes the new value in the ordinary way and stores this in the table. As an example of memoization, recall from [1.2.2](1_002e2.xhtml#g_t1_002e2_002e2) the exponential process for computing Fibonacci numbers:"
   ]
  },
  {
   "cell_type": "code",
   "execution_count": null,
   "metadata": {
    "attributes": {
     "classes": [
      "scheme"
     ],
     "id": ""
    }
   },
   "outputs": [],
   "source": [
    "(define (fib n)\n",
    "  (cond ((= n 0) 0)\n",
    "        ((= n 1) 1)\n",
    "        (else (+ (fib (- n 1))\n",
    "                 (fib (- n 2))))))"
   ]
  },
  {
   "cell_type": "markdown",
   "metadata": {},
   "source": [
    "The memoized version of the same procedure is"
   ]
  },
  {
   "cell_type": "code",
   "execution_count": null,
   "metadata": {
    "attributes": {
     "classes": [
      "scheme"
     ],
     "id": ""
    }
   },
   "outputs": [],
   "source": [
    "(define memo-fib\n",
    "  (memoize \n",
    "   (lambda (n)\n",
    "     (cond ((= n 0) 0)\n",
    "           ((= n 1) 1)\n",
    "           (else \n",
    "            (+ (memo-fib (- n 1))\n",
    "               (memo-fib (- n 2))))))))"
   ]
  },
  {
   "cell_type": "markdown",
   "metadata": {},
   "source": [
    "where the memoizer is defined as"
   ]
  },
  {
   "cell_type": "code",
   "execution_count": null,
   "metadata": {
    "attributes": {
     "classes": [
      "scheme"
     ],
     "id": ""
    }
   },
   "outputs": [],
   "source": [
    "(define (memoize f)\n",
    "  (let ((table (make-table)))\n",
    "    (lambda (x)\n",
    "      (let ((previously-computed-result \n",
    "             (lookup x table)))\n",
    "        (or previously-computed-result\n",
    "            (let ((result (f x)))\n",
    "              (insert! x result table)\n",
    "              result))))))"
   ]
  },
  {
   "cell_type": "markdown",
   "metadata": {},
   "source": [
    "Draw an environment diagram to analyze the computation of `(memo-fib 3)`. Explain why `memo-fib` computes the $n^{\\text{th}}$ Fibonacci number in a number of steps proportional to $n$. Would the scheme still work if we had simply defined `memo-fib` to be `(memoize fib)`?\n",
    "\n",
    "\n",
    "## 3.3.4 A Simulator for Digital Circuits\n",
    "\n",
    "Designing complex digital systems, such as computers, is an important engineering activity. Digital systems are constructed by interconnecting simple elements. Although the behavior of these individual elements is simple, networks of them can have very complex behavior. Computer simulation of proposed circuit designs is an important tool used by digital systems engineers. In this section we design a system for performing digital logic simulations. This system typifies a kind of program called an *event-driven simulation*, in which actions (“events”) trigger further events that happen at a later time, which in turn trigger more events, and so on.\n",
    "\n",
    "Our computational model of a circuit will be composed of objects that correspond to the elementary components from which the circuit is constructed. There are *wires*, which carry *digital signals*. A digital signal may at any moment have only one of two possible values, 0 and 1. There are also various types of digital *function boxes*, which connect wires carrying input signals to other output wires. Such boxes produce output signals computed from their input signals. The output signal is delayed by a time that depends on the type of the function box. For example, an *inverter* is a primitive function box that inverts its input. If the input signal to an inverter changes to 0, then one inverter-delay later the inverter will change its output signal to 1. If the input signal to an inverter changes to 1, then one inverter-delay later the inverter will change its output signal to 0. We draw an inverter symbolically as in [Figure 3.24](#Figure-3_002e24). An *and-gate*, also shown in figure 3.24, is a primitive function box with two inputs and one output. It drives its output signal to a value that is the *logical and* of the inputs. That is, if both of its input signals become 1, then one and-gate-delay time later the and-gate will force its output signal to be 1; otherwise the output will be 0. An *or-gate* is a similar two-input primitive function box that drives its output signal to a value that is the *logical or* of the inputs. That is, the output will become 1 if at least one of the input signals is 1; otherwise the output will become 0.\n",
    "\n",
    "![](fig/chap3/Fig3.24a.std.svg 591.6x133.68)\n",
    "**Figure 3.24:** Primitive functions in the digital logic simulator.\n",
    "\n",
    "We can connect primitive functions together to construct more complex functions. To accomplish this we wire the outputs of some function boxes to the inputs of other function boxes. For example, the *half-adder* circuit shown in [Figure 3.25](#Figure-3_002e25) consists of an or-gate, two and-gates, and an inverter. It takes two input signals, A and B, and has two output signals, S and C. S will become 1 whenever precisely one of A and B is 1, and C will become 1 whenever A and B are both 1. We can see from the figure that, because of the delays involved, the outputs may be generated at different times. Many of the difficulties in the design of digital circuits arise from this fact.\n",
    "\n",
    "![](fig/chap3/Fig3.25c.std.svg 582.24x230.04)\n",
    "**Figure 3.25:** A half-adder circuit.\n",
    "\n",
    "We will now build a program for modeling the digital logic circuits we wish to study. The program will construct computational objects modeling the wires, which will “hold” the signals. Function boxes will be modeled by procedures that enforce the correct relationships among the signals.\n",
    "\n",
    "One basic element of our simulation will be a procedure `make-wire`, which constructs wires. For example, we can construct six wires as follows:"
   ]
  },
  {
   "cell_type": "code",
   "execution_count": null,
   "metadata": {
    "attributes": {
     "classes": [
      "scheme"
     ],
     "id": ""
    }
   },
   "outputs": [],
   "source": [
    "(define a (make-wire))\n",
    "(define b (make-wire))\n",
    "(define c (make-wire))\n",
    "(define d (make-wire))\n",
    "(define e (make-wire))\n",
    "(define s (make-wire))"
   ]
  },
  {
   "cell_type": "markdown",
   "metadata": {},
   "source": [
    "We attach a function box to a set of wires by calling a procedure that constructs that kind of box. The arguments to the constructor procedure are the wires to be attached to the box. For example, given that we can construct and-gates, or-gates, and inverters, we can wire together the half-adder shown in [Figure 3.25](#Figure-3_002e25):"
   ]
  },
  {
   "cell_type": "code",
   "execution_count": null,
   "metadata": {
    "attributes": {
     "classes": [
      "scheme"
     ],
     "id": ""
    }
   },
   "outputs": [],
   "source": [
    "(or-gate a b d)\n",
    "ok\n",
    "\n",
    "(and-gate a b c)\n",
    "ok\n",
    "\n",
    "(inverter c e)\n",
    "ok\n",
    "\n",
    "(and-gate d e s)\n",
    "ok"
   ]
  },
  {
   "cell_type": "markdown",
   "metadata": {},
   "source": [
    "Better yet, we can explicitly name this operation by defining a procedure `half-adder` that constructs this circuit, given the four external wires to be attached to the half-adder:"
   ]
  },
  {
   "cell_type": "code",
   "execution_count": null,
   "metadata": {
    "attributes": {
     "classes": [
      "scheme"
     ],
     "id": ""
    }
   },
   "outputs": [],
   "source": [
    "(define (half-adder a b s c)\n",
    "  (let ((d (make-wire)) (e (make-wire)))\n",
    "    (or-gate a b d)\n",
    "    (and-gate a b c)\n",
    "    (inverter c e)\n",
    "    (and-gate d e s)\n",
    "    'ok))"
   ]
  },
  {
   "cell_type": "markdown",
   "metadata": {},
   "source": [
    "The advantage of making this definition is that we can use `half-adder` itself as a building block in creating more complex circuits. [Figure 3.26](#Figure-3_002e26), for example, shows a *full-adder* composed of two half-adders and an or-gate.^[A full-adder is a basic circuit element used in adding two binary numbers. Here A and B are the bits at corresponding positions in the two numbers to be added, and $C_{in}$ is the carry bit from the addition one place to the right. The circuit generates SUM, which is the sum bit in the corresponding position, and $C_{out}$, which is the carry bit to be propagated to the left.] We can construct a full-adder as follows:"
   ]
  },
  {
   "cell_type": "code",
   "execution_count": null,
   "metadata": {
    "attributes": {
     "classes": [
      "scheme"
     ],
     "id": ""
    }
   },
   "outputs": [],
   "source": [
    "(define (full-adder a b c-in sum c-out)\n",
    "  (let ((c1 (make-wire)) \n",
    "        (c2 (make-wire))\n",
    "        (s  (make-wire)))\n",
    "    (half-adder b c-in s c1)\n",
    "    (half-adder a s sum c2)\n",
    "    (or-gate c1 c2 c-out)\n",
    "    'ok))"
   ]
  },
  {
   "cell_type": "markdown",
   "metadata": {},
   "source": [
    "![](fig/chap3/Fig3.26.std.svg 615.48x230.04)\n",
    "**Figure 3.26:** A full-adder circuit.\n",
    "\n",
    "Having defined `full-adder` as a procedure, we can now use it as a building block for creating still more complex circuits. (For example, see [Exercise 3.30](#Exercise-3_002e30).)\n",
    "\n",
    "In essence, our simulator provides us with the tools to construct a language of circuits. If we adopt the general perspective on languages with which we approached the study of Lisp in [1.1](1_002e1.xhtml#g_t1_002e1), we can say that the primitive function boxes form the primitive elements of the language, that wiring boxes together provides a means of combination, and that specifying wiring patterns as procedures serves as a means of abstraction.\n",
    "\n",
    "\n",
    "### Primitive function boxes\n",
    "\n",
    "The primitive function boxes implement the “forces” by which a change in the signal on one wire influences the signals on other wires. To build function boxes, we use the following operations on wires:\n",
    "\n",
    "- `(get-signal ⟨wire⟩)`"
   ]
  },
  {
   "cell_type": "code",
   "execution_count": null,
   "metadata": {},
   "outputs": [],
   "source": [
    "returns the current value of the signal on the wire."
   ]
  },
  {
   "cell_type": "markdown",
   "metadata": {},
   "source": [
    "- `(set-signal! ⟨wire⟩ ⟨new value⟩)`"
   ]
  },
  {
   "cell_type": "code",
   "execution_count": null,
   "metadata": {},
   "outputs": [],
   "source": [
    "changes the value of the signal on the wire to the new value."
   ]
  },
  {
   "cell_type": "markdown",
   "metadata": {},
   "source": [
    "- `(add-action! ⟨wire⟩ ⟨procedure of no arguments⟩)`"
   ]
  },
  {
   "cell_type": "code",
   "execution_count": null,
   "metadata": {},
   "outputs": [],
   "source": [
    "asserts that the designated procedure should be run whenever the signal on the wire changes value. Such procedures are the vehicles by which changes in the signal value on the wire are communicated to other wires."
   ]
  },
  {
   "cell_type": "markdown",
   "metadata": {},
   "source": [
    "In addition, we will make use of a procedure `after-delay` that takes a time delay and a procedure to be run and executes the given procedure after the given delay.\n",
    "\n",
    "Using these procedures, we can define the primitive digital logic functions. To connect an input to an output through an inverter, we use `add-action!` to associate with the input wire a procedure that will be run whenever the signal on the input wire changes value. The procedure computes the `logical-not` of the input signal, and then, after one `inverter-delay`, sets the output signal to be this new value:"
   ]
  },
  {
   "cell_type": "code",
   "execution_count": null,
   "metadata": {
    "attributes": {
     "classes": [
      "scheme"
     ],
     "id": ""
    }
   },
   "outputs": [],
   "source": [
    "(define (inverter input output)\n",
    "  (define (invert-input)\n",
    "    (let ((new-value \n",
    "           (logical-not (get-signal input))))\n",
    "      (after-delay \n",
    "       inverter-delay\n",
    "       (lambda ()\n",
    "         (set-signal! output new-value)))))\n",
    "  (add-action! input invert-input)\n",
    "  'ok)\n",
    "\n",
    "(define (logical-not s)\n",
    "  (cond ((= s 0) 1)\n",
    "        ((= s 1) 0)\n",
    "        (else (error \"Invalid signal\" s))))"
   ]
  },
  {
   "cell_type": "markdown",
   "metadata": {},
   "source": [
    "An and-gate is a little more complex. The action procedure must be run if either of the inputs to the gate changes. It computes the `logical-and` (using a procedure analogous to `logical-not`) of the values of the signals on the input wires and sets up a change to the new value to occur on the output wire after one `and-gate-delay`."
   ]
  },
  {
   "cell_type": "code",
   "execution_count": null,
   "metadata": {
    "attributes": {
     "classes": [
      "scheme"
     ],
     "id": ""
    }
   },
   "outputs": [],
   "source": [
    "(define (and-gate a1 a2 output)\n",
    "  (define (and-action-procedure)\n",
    "    (let ((new-value\n",
    "           (logical-and (get-signal a1) \n",
    "                        (get-signal a2))))\n",
    "      (after-delay \n",
    "       and-gate-delay\n",
    "       (lambda ()\n",
    "         (set-signal! output new-value)))))\n",
    "  (add-action! a1 and-action-procedure)\n",
    "  (add-action! a2 and-action-procedure)\n",
    "  'ok)"
   ]
  },
  {
   "cell_type": "markdown",
   "metadata": {},
   "source": [
    "**Exercise 3.28:** Define an or-gate as a primitive function box. Your `or-gate` constructor should be similar to `and-gate`.\n",
    "\n",
    "**Exercise 3.29:** Another way to construct an or-gate is as a compound digital logic device, built from and-gates and inverters. Define a procedure `or-gate` that accomplishes this. What is the delay time of the or-gate in terms of `and-gate-delay` and `inverter-delay`?\n",
    "\n",
    "**Exercise 3.30:** [Figure 3.27](#Figure-3_002e27) shows a *ripple-carry adder* formed by stringing together $n$ full-adders. This is the simplest form of parallel adder for adding two $n$-bit binary numbers. The inputs $A_{1}$, $A_{2}$, $A_{3}$, …, $A_{n}$ and $B_{1}$, $B_{2}$, $B_{3}$, …, $B_{n}$ are the two binary numbers to be added (each $A_{k}$ and $B_{k}$ is a 0 or a 1). The circuit generates $S_{1}$, $S_{2}$, $S_{3}$, …, $S_{n}$, the $n$ bits of the sum, and $C$, the carry from the addition. Write a procedure `ripple-carry-adder` that generates this circuit. The procedure should take as arguments three lists of $n$ wires each—the $A_{k}$, the $B_{k}$, and the $S_{k}$—and also another wire $C$. The major drawback of the ripple-carry adder is the need to wait for the carry signals to propagate. What is the delay needed to obtain the complete output from an $n$-bit ripple-carry adder, expressed in terms of the delays for and-gates, or-gates, and inverters?\n",
    "\n",
    "![](fig/chap3/Fig3.27b.std.svg 601.92x186.48)\n",
    "**Figure 3.27:** A ripple-carry adder for $n$-bit numbers.\n",
    "\n",
    "\n",
    "### Representing wires\n",
    "\n",
    "A wire in our simulation will be a computational object with two local state variables: a `signal-value` (initially taken to be 0) and a collection of `action-procedures` to be run when the signal changes value. We implement the wire, using message-passing style, as a collection of local procedures together with a `dispatch` procedure that selects the appropriate local operation, just as we did with the simple bank-account object in [3.1.1](3_002e1.xhtml#g_t3_002e1_002e1):"
   ]
  },
  {
   "cell_type": "code",
   "execution_count": null,
   "metadata": {
    "attributes": {
     "classes": [
      "scheme"
     ],
     "id": ""
    }
   },
   "outputs": [],
   "source": [
    "(define (make-wire)\n",
    "  (let ((signal-value 0) \n",
    "        (action-procedures '()))\n",
    "    (define (set-my-signal! new-value)\n",
    "      (if (not (= signal-value new-value))\n",
    "          (begin (set! signal-value new-value)\n",
    "                 (call-each \n",
    "                  action-procedures))\n",
    "          'done))\n",
    "    (define (accept-action-procedure! proc)\n",
    "      (set! action-procedures \n",
    "            (cons proc action-procedures))\n",
    "      (proc))\n",
    "    (define (dispatch m)\n",
    "      (cond ((eq? m 'get-signal) \n",
    "             signal-value)\n",
    "            ((eq? m 'set-signal!) \n",
    "             set-my-signal!)\n",
    "            ((eq? m 'add-action!) \n",
    "             accept-action-procedure!)\n",
    "            (else (error \"Unknown operation: \n",
    "                          WIRE\" m))))\n",
    "    dispatch))"
   ]
  },
  {
   "cell_type": "markdown",
   "metadata": {},
   "source": [
    "The local procedure `set-my-signal!` tests whether the new signal value changes the signal on the wire. If so, it runs each of the action procedures, using the following procedure `call-each`, which calls each of the items in a list of no-argument procedures:"
   ]
  },
  {
   "cell_type": "code",
   "execution_count": null,
   "metadata": {
    "attributes": {
     "classes": [
      "scheme"
     ],
     "id": ""
    }
   },
   "outputs": [],
   "source": [
    "(define (call-each procedures)\n",
    "  (if (null? procedures)\n",
    "      'done\n",
    "      (begin ((car procedures))\n",
    "             (call-each (cdr procedures)))))"
   ]
  },
  {
   "cell_type": "markdown",
   "metadata": {},
   "source": [
    "The local procedure `accept-action-procedure!` adds the given procedure to the list of procedures to be run, and then runs the new procedure once. (See [Exercise 3.31](#Exercise-3_002e31).)\n",
    "\n",
    "With the local `dispatch` procedure set up as specified, we can provide the following procedures to access the local operations on wires:^[hese procedures are simply syntactic sugar that allow us to use ordinary procedural syntax to access the local procedures of objects. It is striking that we can interchange the role of “procedures” and “data” in such a simple way. For example, if we write `(wire 'get-signal)` we think of `wire` as a procedure that is called with the message `get-signal` as input. Alternatively, writing `(get-signal wire)` encourages us to think of `wire` as a data object that is the input to a procedure `get-signal`. The truth of the matter is that, in a language in which we can deal with procedures as objects, there is no fundamental difference between “procedures” and “data,” and we can choose our syntactic sugar to allow us to program in whatever style we choose.]"
   ]
  },
  {
   "cell_type": "code",
   "execution_count": null,
   "metadata": {
    "attributes": {
     "classes": [
      "scheme"
     ],
     "id": ""
    }
   },
   "outputs": [],
   "source": [
    "(define (get-signal wire)\n",
    "  (wire 'get-signal))\n",
    "(define (set-signal! wire new-value)\n",
    "  ((wire 'set-signal!) new-value))\n",
    "(define (add-action! wire action-procedure)\n",
    "  ((wire 'add-action!) action-procedure))"
   ]
  },
  {
   "cell_type": "markdown",
   "metadata": {},
   "source": [
    "Wires, which have time-varying signals and may be incrementally attached to devices, are typical of mutable objects. We have modeled them as procedures with local state variables that are modified by assignment. When a new wire is created, a new set of state variables is allocated (by the `let` expression in `make-wire`) and a new `dispatch` procedure is constructed and returned, capturing the environment with the new state variables.\n",
    "\n",
    "The wires are shared among the various devices that have been connected to them. Thus, a change made by an interaction with one device will affect all the other devices attached to the wire. The wire communicates the change to its neighbors by calling the action procedures provided to it when the connections were established.\n",
    "\n",
    "\n",
    "### The agenda\n",
    "\n",
    "The only thing needed to complete the simulator is `after-delay`. The idea here is that we maintain a data structure, called an *agenda*, that contains a schedule of things to do. The following operations are defined for agendas:\n",
    "\n",
    "- `(make-agenda)` returns a new empty agenda.\n",
    "- `(empty-agenda? ⟨agenda⟩)` is true if the specified agenda is empty.\n",
    "- `(first-agenda-item ⟨agenda⟩)` returns the first item on the agenda.\n",
    "- `(remove-first-agenda-item! ⟨agenda⟩)` modifies the agenda by removing the first item.\n",
    "- `(add-to-agenda! ⟨time⟩ ⟨action⟩ ⟨agenda⟩)` modifies the agenda by adding the given action procedure to be run at the specified time.\n",
    "- `(current-time ⟨agenda⟩)` returns the current simulation time.\n",
    "\n",
    "The particular agenda that we use is denoted by `the-agenda`. The procedure `after-delay` adds new elements to `the-agenda`:"
   ]
  },
  {
   "cell_type": "code",
   "execution_count": null,
   "metadata": {
    "attributes": {
     "classes": [
      "scheme"
     ],
     "id": ""
    }
   },
   "outputs": [],
   "source": [
    "(define (after-delay delay action)\n",
    "  (add-to-agenda! \n",
    "   (+ delay (current-time the-agenda))\n",
    "   action\n",
    "   the-agenda))"
   ]
  },
  {
   "cell_type": "markdown",
   "metadata": {},
   "source": [
    "The simulation is driven by the procedure `propagate`, which operates on `the-agenda`, executing each procedure on the agenda in sequence. In general, as the simulation runs, new items will be added to the agenda, and `propagate` will continue the simulation as long as there are items on the agenda:"
   ]
  },
  {
   "cell_type": "code",
   "execution_count": null,
   "metadata": {
    "attributes": {
     "classes": [
      "scheme"
     ],
     "id": ""
    }
   },
   "outputs": [],
   "source": [
    "(define (propagate)\n",
    "  (if (empty-agenda? the-agenda)\n",
    "      'done\n",
    "      (let ((first-item \n",
    "             (first-agenda-item the-agenda)))\n",
    "        (first-item)\n",
    "        (remove-first-agenda-item! the-agenda)\n",
    "        (propagate))))"
   ]
  },
  {
   "cell_type": "markdown",
   "metadata": {},
   "source": [
    "### A sample simulation\n",
    "\n",
    "The following procedure, which places a “probe” on a wire, shows the simulator in action. The probe tells the wire that, whenever its signal changes value, it should print the new signal value, together with the current time and a name that identifies the wire:"
   ]
  },
  {
   "cell_type": "code",
   "execution_count": null,
   "metadata": {
    "attributes": {
     "classes": [
      "scheme"
     ],
     "id": ""
    }
   },
   "outputs": [],
   "source": [
    "(define (probe name wire)\n",
    "  (add-action! \n",
    "   wire\n",
    "   (lambda ()\n",
    "     (newline)\n",
    "     (display name)\n",
    "     (display \" \")\n",
    "     (display (current-time the-agenda))\n",
    "     (display \"  New-value = \")\n",
    "     (display (get-signal wire)))))"
   ]
  },
  {
   "cell_type": "markdown",
   "metadata": {},
   "source": [
    "We begin by initializing the agenda and specifying delays for the primitive function boxes:"
   ]
  },
  {
   "cell_type": "code",
   "execution_count": null,
   "metadata": {
    "attributes": {
     "classes": [
      "scheme"
     ],
     "id": ""
    }
   },
   "outputs": [],
   "source": [
    "(define the-agenda (make-agenda))\n",
    "(define inverter-delay 2)\n",
    "(define and-gate-delay 3)\n",
    "(define or-gate-delay 5)"
   ]
  },
  {
   "cell_type": "markdown",
   "metadata": {},
   "source": [
    "Now we define four wires, placing probes on two of them:"
   ]
  },
  {
   "cell_type": "code",
   "execution_count": null,
   "metadata": {
    "attributes": {
     "classes": [
      "scheme"
     ],
     "id": ""
    }
   },
   "outputs": [],
   "source": [
    "(define input-1 (make-wire))\n",
    "(define input-2 (make-wire))\n",
    "(define sum (make-wire))\n",
    "(define carry (make-wire))\n",
    "\n",
    "(probe 'sum sum)\n",
    "sum 0  New-value = 0\n",
    "\n",
    "(probe 'carry carry)\n",
    "carry 0  New-value = 0"
   ]
  },
  {
   "cell_type": "markdown",
   "metadata": {},
   "source": [
    "Next we connect the wires in a half-adder circuit (as in [Figure 3.25](#Figure-3_002e25)), set the signal on `input-1` to 1, and run the simulation:"
   ]
  },
  {
   "cell_type": "code",
   "execution_count": null,
   "metadata": {
    "attributes": {
     "classes": [
      "scheme"
     ],
     "id": ""
    }
   },
   "outputs": [],
   "source": [
    "(half-adder input-1 input-2 sum carry)\n",
    "ok\n",
    "\n",
    "(set-signal! input-1 1)\n",
    "done\n",
    "\n",
    "(propagate)\n",
    "sum 8  New-value = 1\n",
    "done"
   ]
  },
  {
   "cell_type": "markdown",
   "metadata": {},
   "source": [
    "The `sum` signal changes to 1 at time 8. We are now eight time units from the beginning of the simulation. At this point, we can set the signal on `input-2` to 1 and allow the values to propagate:"
   ]
  },
  {
   "cell_type": "code",
   "execution_count": null,
   "metadata": {
    "attributes": {
     "classes": [
      "scheme"
     ],
     "id": ""
    }
   },
   "outputs": [],
   "source": [
    "(set-signal! input-2 1)\n",
    "done\n",
    "\n",
    "(propagate)\n",
    "carry 11  New-value = 1\n",
    "sum 16  New-value = 0\n",
    "done"
   ]
  },
  {
   "cell_type": "markdown",
   "metadata": {},
   "source": [
    "The `carry` changes to 1 at time 11 and the `sum` changes to 0 at time 16.\n",
    "\n",
    "**Exercise 3.31:** The internal procedure `accept-action-procedure!` defined in `make-wire` specifies that when a new action procedure is added to a wire, the procedure is immediately run. Explain why this initialization is necessary. In particular, trace through the half-adder example in the paragraphs above and say how the system’s response would differ if we had defined `accept-action-procedure!` as"
   ]
  },
  {
   "cell_type": "code",
   "execution_count": null,
   "metadata": {
    "attributes": {
     "classes": [
      "scheme"
     ],
     "id": ""
    }
   },
   "outputs": [],
   "source": [
    "(define (accept-action-procedure! proc)\n",
    "  (set! action-procedures \n",
    "        (cons proc action-procedures)))"
   ]
  },
  {
   "cell_type": "markdown",
   "metadata": {},
   "source": [
    "### Implementing the agenda\n",
    "\n",
    "Finally, we give details of the agenda data structure, which holds the procedures that are scheduled for future execution.\n",
    "\n",
    "The agenda is made up of *time segments*. Each time segment is a pair consisting of a number (the time) and a queue (see [Exercise 3.32](#Exercise-3_002e32)) that holds the procedures that are scheduled to be run during that time segment."
   ]
  },
  {
   "cell_type": "code",
   "execution_count": null,
   "metadata": {
    "attributes": {
     "classes": [
      "scheme"
     ],
     "id": ""
    }
   },
   "outputs": [],
   "source": [
    "(define (make-time-segment time queue)\n",
    "  (cons time queue))\n",
    "(define (segment-time s) (car s))\n",
    "(define (segment-queue s) (cdr s))"
   ]
  },
  {
   "cell_type": "markdown",
   "metadata": {},
   "source": [
    "We will operate on the time-segment queues using the queue operations described in [3.3.2](#g_t3_002e3_002e2).\n",
    "\n",
    "The agenda itself is a one-dimensional table of time segments. It differs from the tables described in [3.3.3](#g_t3_002e3_002e3) in that the segments will be sorted in order of increasing time. In addition, we store the *current time* (i.e., the time of the last action that was processed) at the head of the agenda. A newly constructed agenda has no time segments and has a current time of 0:^[The agenda is a headed list, like the tables in [3.3.3](#g_t3_002e3_002e3), but since the list is headed by the time, we do not need an additional dummy header (such as the `*table*` symbol used with tables).]"
   ]
  },
  {
   "cell_type": "code",
   "execution_count": null,
   "metadata": {
    "attributes": {
     "classes": [
      "scheme"
     ],
     "id": ""
    }
   },
   "outputs": [],
   "source": [
    "(define (make-agenda) (list 0))\n",
    "(define (current-time agenda) (car agenda))\n",
    "(define (set-current-time! agenda time)\n",
    "  (set-car! agenda time))\n",
    "(define (segments agenda) (cdr agenda))\n",
    "(define (set-segments! agenda segments)\n",
    "  (set-cdr! agenda segments))\n",
    "(define (first-segment agenda) \n",
    "  (car (segments agenda)))\n",
    "(define (rest-segments agenda) \n",
    "  (cdr (segments agenda)))"
   ]
  },
  {
   "cell_type": "markdown",
   "metadata": {},
   "source": [
    "An agenda is empty if it has no time segments:"
   ]
  },
  {
   "cell_type": "code",
   "execution_count": null,
   "metadata": {
    "attributes": {
     "classes": [
      "scheme"
     ],
     "id": ""
    }
   },
   "outputs": [],
   "source": [
    "(define (empty-agenda? agenda)\n",
    "  (null? (segments agenda)))"
   ]
  },
  {
   "cell_type": "markdown",
   "metadata": {},
   "source": [
    "To add an action to an agenda, we first check if the agenda is empty. If so, we create a time segment for the action and install this in the agenda. Otherwise, we scan the agenda, examining the time of each segment. If we find a segment for our appointed time, we add the action to the associated queue. If we reach a time later than the one to which we are appointed, we insert a new time segment into the agenda just before it. If we reach the end of the agenda, we must create a new time segment at the end."
   ]
  },
  {
   "cell_type": "code",
   "execution_count": null,
   "metadata": {
    "attributes": {
     "classes": [
      "scheme"
     ],
     "id": ""
    }
   },
   "outputs": [],
   "source": [
    "(define (add-to-agenda! time action agenda)\n",
    "  (define (belongs-before? segments)\n",
    "    (or (null? segments)\n",
    "        (< time \n",
    "           (segment-time (car segments)))))\n",
    "  (define (make-new-time-segment time action)\n",
    "    (let ((q (make-queue)))\n",
    "      (insert-queue! q action)\n",
    "      (make-time-segment time q)))\n",
    "  (define (add-to-segments! segments)\n",
    "    (if (= (segment-time (car segments)) time)\n",
    "        (insert-queue! \n",
    "         (segment-queue (car segments))\n",
    "         action)\n",
    "        (let ((rest (cdr segments)))\n",
    "          (if (belongs-before? rest)\n",
    "              (set-cdr!\n",
    "               segments\n",
    "               (cons (make-new-time-segment \n",
    "                      time \n",
    "                      action)\n",
    "                     (cdr segments)))\n",
    "              (add-to-segments! rest)))))\n",
    "  (let ((segments (segments agenda)))\n",
    "    (if (belongs-before? segments)\n",
    "        (set-segments!\n",
    "         agenda\n",
    "         (cons (make-new-time-segment \n",
    "                time \n",
    "                action)\n",
    "               segments))\n",
    "        (add-to-segments! segments))))"
   ]
  },
  {
   "cell_type": "markdown",
   "metadata": {},
   "source": [
    "The procedure that removes the first item from the agenda deletes the item at the front of the queue in the first time segment. If this deletion makes the time segment empty, we remove it from the list of segments:^[Observe that the `if` expression in this procedure has no `⟨`alternative`⟩` expression. Such a “one-armed `if` statement” is used to decide whether to do something, rather than to select between two expressions. An `if` expression returns an unspecified value if the predicate is false and there is no `⟨`alternative`⟩`.]"
   ]
  },
  {
   "cell_type": "code",
   "execution_count": null,
   "metadata": {
    "attributes": {
     "classes": [
      "scheme"
     ],
     "id": ""
    }
   },
   "outputs": [],
   "source": [
    "(define (remove-first-agenda-item! agenda)\n",
    "  (let ((q (segment-queue \n",
    "            (first-segment agenda))))\n",
    "    (delete-queue! q)\n",
    "    (if (empty-queue? q)\n",
    "        (set-segments! \n",
    "         agenda \n",
    "         (rest-segments agenda)))))"
   ]
  },
  {
   "cell_type": "markdown",
   "metadata": {},
   "source": [
    "The first agenda item is found at the head of the queue in the first time segment. Whenever we extract an item, we also update the current time:^[In this way, the current time will always be the time of the action most recently processed. Storing this time at the head of the agenda ensures that it will still be available even if the associated time segment has been deleted.]"
   ]
  },
  {
   "cell_type": "code",
   "execution_count": null,
   "metadata": {
    "attributes": {
     "classes": [
      "scheme"
     ],
     "id": ""
    }
   },
   "outputs": [],
   "source": [
    "(define (first-agenda-item agenda)\n",
    "  (if (empty-agenda? agenda)\n",
    "      (error \"Agenda is empty: \n",
    "              FIRST-AGENDA-ITEM\")\n",
    "      (let ((first-seg \n",
    "             (first-segment agenda)))\n",
    "        (set-current-time! \n",
    "         agenda \n",
    "         (segment-time first-seg))\n",
    "        (front-queue \n",
    "         (segment-queue first-seg)))))"
   ]
  },
  {
   "cell_type": "markdown",
   "metadata": {},
   "source": [
    "**Exercise 3.32:** The procedures to be run during each time segment of the agenda are kept in a queue. Thus, the procedures for each segment are called in the order in which they were added to the agenda (first in, first out). Explain why this order must be used. In particular, trace the behavior of an and-gate whose inputs change from 0, 1 to 1, 0 in the same segment and say how the behavior would differ if we stored a segment’s procedures in an ordinary list, adding and removing procedures only at the front (last in, first out).\n",
    "\n",
    "\n",
    "## 3.3.5 Propagation of Constraints\n",
    "\n",
    "Computer programs are traditionally organized as one-directional computations, which perform operations on prespecified arguments to produce desired outputs. On the other hand, we often model systems in terms of relations among quantities. For example, a mathematical model of a mechanical structure might include the information that the deflection $d$ of a metal rod is related to the force $F$ on the rod, the length $L$ of the rod, the cross-sectional area $A$, and the elastic modulus $E$ via the equation \n",
    "\n",
    "$${dAE}\\, = \\,{FL.}$$\n",
    "\n",
    " Such an equation is not one-directional. Given any four of the quantities, we can use it to compute the fifth. Yet translating the equation into a traditional computer language would force us to choose one of the quantities to be computed in terms of the other four. Thus, a procedure for computing the area $A$ could not be used to compute the deflection $d$, even though the computations of $A$ and $d$ arise from the same equation.^[Constraint propagation first appeared in the incredibly forward-looking SKETCHPAD system of Ivan [Sutherland (1963)](References.xhtml#Sutherland-_00281963_0029). A beautiful constraint-propagation system based on the Smalltalk language was developed by Alan [Borning (1977)](References.xhtml#Borning-_00281977_0029) at Xerox Palo Alto Research Center. Sussman, Stallman, and Steele applied constraint propagation to electrical circuit analysis ([Sussman and Stallman 1975](References.xhtml#Sussman-and-Stallman-1975); [Sussman and Steele 1980](References.xhtml#Sussman-and-Steele-1980)). TK!Solver ([Konopasek and Jayaraman 1984](References.xhtml#Konopasek-and-Jayaraman-1984)) is an extensive modeling environment based on constraints.]\n",
    "\n",
    "In this section, we sketch the design of a language that enables us to work in terms of relations themselves. The primitive elements of the language are *primitive constraints*, which state that certain relations hold between quantities. For example, `(adder a b c)` specifies that the quantities $a$, $b$, and $c$ must be related by the equation $a + b = c$, `(multiplier x y z)` expresses the constraint $xy = z$, and `(constant 3.14 x)` says that the value of $x$ must be 3.14.\n",
    "\n",
    "Our language provides a means of combining primitive constraints in order to express more complex relations. We combine constraints by constructing *constraint networks*, in which constraints are joined by *connectors*. A connector is an object that “holds” a value that may participate in one or more constraints. For example, we know that the relationship between Fahrenheit and Celsius temperatures is \n",
    "\n",
    "$${9C}\\, = \\,{5(F - 32).}$$\n",
    "\n",
    " Such a constraint can be thought of as a network consisting of primitive adder, multiplier, and constant constraints ([Figure 3.28](#Figure-3_002e28)). In the figure, we see on the left a multiplier box with three terminals, labeled $m1$, $m2$, and $p$. These connect the multiplier to the rest of the network as follows: The $m1$ terminal is linked to a connector $C$, which will hold the Celsius temperature. The $m2$ terminal is linked to a connector $w$, which is also linked to a constant box that holds 9. The $p$ terminal, which the multiplier box constrains to be the product of $m1$ and $m2$, is linked to the $p$ terminal of another multiplier box, whose $m2$ is connected to a constant 5 and whose $m1$ is connected to one of the terms in a sum.\n",
    "\n",
    "![](fig/chap3/Fig3.28.std.svg 697.32x219.6)\n",
    "**Figure 3.28:** The relation $9C = 5(F - 32)$ expressed as a constraint network.\n",
    "\n",
    "Computation by such a network proceeds as follows: When a connector is given a value (by the user or by a constraint box to which it is linked), it awakens all of its associated constraints (except for the constraint that just awakened it) to inform them that it has a value. Each awakened constraint box then polls its connectors to see if there is enough information to determine a value for a connector. If so, the box sets that connector, which then awakens all of its associated constraints, and so on. For instance, in conversion between Celsius and Fahrenheit, $w$, $x$, and $y$ are immediately set by the constant boxes to 9, 5, and 32, respectively. The connectors awaken the multipliers and the adder, which determine that there is not enough information to proceed. If the user (or some other part of the network) sets $C$ to a value (say 25), the leftmost multiplier will be awakened, and it will set $u$ to $25 \\cdot 9 = 225$. Then $u$ awakens the second multiplier, which sets $v$ to 45, and $v$ awakens the adder, which sets $f$ to 77.\n",
    "\n",
    "\n",
    "### Using the constraint system\n",
    "\n",
    "To use the constraint system to carry out the temperature computation outlined above, we first create two connectors, `C` and `F`, by calling the constructor `make-connector`, and link `C` and `F` in an appropriate network:"
   ]
  },
  {
   "cell_type": "code",
   "execution_count": null,
   "metadata": {
    "attributes": {
     "classes": [
      "scheme"
     ],
     "id": ""
    }
   },
   "outputs": [],
   "source": [
    "(define C (make-connector))\n",
    "(define F (make-connector))\n",
    "(celsius-fahrenheit-converter C F)\n",
    "ok"
   ]
  },
  {
   "cell_type": "markdown",
   "metadata": {},
   "source": [
    "The procedure that creates the network is defined as follows:"
   ]
  },
  {
   "cell_type": "code",
   "execution_count": null,
   "metadata": {
    "attributes": {
     "classes": [
      "scheme"
     ],
     "id": ""
    }
   },
   "outputs": [],
   "source": [
    "(define (celsius-fahrenheit-converter c f)\n",
    "  (let ((u (make-connector))\n",
    "        (v (make-connector))\n",
    "        (w (make-connector))\n",
    "        (x (make-connector))\n",
    "        (y (make-connector)))\n",
    "    (multiplier c w u)\n",
    "    (multiplier v x u)\n",
    "    (adder v y f)\n",
    "    (constant 9 w)\n",
    "    (constant 5 x)\n",
    "    (constant 32 y)\n",
    "    'ok))"
   ]
  },
  {
   "cell_type": "markdown",
   "metadata": {},
   "source": [
    "This procedure creates the internal connectors `u`, `v`, `w`, `x`, and `y`, and links them as shown in [Figure 3.28](#Figure-3_002e28) using the primitive constraint constructors `adder`, `multiplier`, and `constant`. Just as with the digital-circuit simulator of [3.3.4](#g_t3_002e3_002e4), expressing these combinations of primitive elements in terms of procedures automatically provides our language with a means of abstraction for compound objects.\n",
    "\n",
    "To watch the network in action, we can place probes on the connectors `C` and `F`, using a `probe` procedure similar to the one we used to monitor wires in [3.3.4](#g_t3_002e3_002e4). Placing a probe on a connector will cause a message to be printed whenever the connector is given a value:"
   ]
  },
  {
   "cell_type": "code",
   "execution_count": null,
   "metadata": {
    "attributes": {
     "classes": [
      "scheme"
     ],
     "id": ""
    }
   },
   "outputs": [],
   "source": [
    "(probe \"Celsius temp\" C)\n",
    "(probe \"Fahrenheit temp\" F)"
   ]
  },
  {
   "cell_type": "markdown",
   "metadata": {},
   "source": [
    "Next we set the value of `C` to 25. (The third argument to `set-value!` tells `C` that this directive comes from the `user`.)"
   ]
  },
  {
   "cell_type": "code",
   "execution_count": null,
   "metadata": {
    "attributes": {
     "classes": [
      "scheme"
     ],
     "id": ""
    }
   },
   "outputs": [],
   "source": [
    "(set-value! C 25 'user)\n",
    "Probe: Celsius temp = 25\n",
    "Probe: Fahrenheit temp = 77\n",
    "done"
   ]
  },
  {
   "cell_type": "markdown",
   "metadata": {},
   "source": [
    "The probe on `C` awakens and reports the value. `C` also propagates its value through the network as described above. This sets `F` to 77, which is reported by the probe on `F`.\n",
    "\n",
    "Now we can try to set `F` to a new value, say 212:"
   ]
  },
  {
   "cell_type": "code",
   "execution_count": null,
   "metadata": {
    "attributes": {
     "classes": [
      "scheme"
     ],
     "id": ""
    }
   },
   "outputs": [],
   "source": [
    "(set-value! F 212 'user)\n",
    "Error! Contradiction (77 212)"
   ]
  },
  {
   "cell_type": "markdown",
   "metadata": {},
   "source": [
    "The connector complains that it has sensed a contradiction: Its value is 77, and someone is trying to set it to 212. If we really want to reuse the network with new values, we can tell `C` to forget its old value:"
   ]
  },
  {
   "cell_type": "code",
   "execution_count": null,
   "metadata": {
    "attributes": {
     "classes": [
      "scheme"
     ],
     "id": ""
    }
   },
   "outputs": [],
   "source": [
    "(forget-value! C 'user)\n",
    "Probe: Celsius temp = ?\n",
    "Probe: Fahrenheit temp = ?\n",
    "done"
   ]
  },
  {
   "cell_type": "markdown",
   "metadata": {},
   "source": [
    "`C` finds that the `user`, who set its value originally, is now retracting that value, so `C` agrees to lose its value, as shown by the probe, and informs the rest of the network of this fact. This information eventually propagates to `F`, which now finds that it has no reason for continuing to believe that its own value is 77. Thus, `F` also gives up its value, as shown by the probe.\n",
    "\n",
    "Now that `F` has no value, we are free to set it to 212:"
   ]
  },
  {
   "cell_type": "code",
   "execution_count": null,
   "metadata": {
    "attributes": {
     "classes": [
      "scheme"
     ],
     "id": ""
    }
   },
   "outputs": [],
   "source": [
    "(set-value! F 212 'user)\n",
    "Probe: Fahrenheit temp = 212\n",
    "Probe: Celsius temp = 100\n",
    "done"
   ]
  },
  {
   "cell_type": "markdown",
   "metadata": {},
   "source": [
    "This new value, when propagated through the network, forces `C` to have a value of 100, and this is registered by the probe on `C`. Notice that the very same network is being used to compute `C` given `F` and to compute `F` given `C`. This nondirectionality of computation is the distinguishing feature of constraint-based systems.\n",
    "\n",
    "\n",
    "### Implementing the constraint system\n",
    "\n",
    "The constraint system is implemented via procedural objects with local state, in a manner very similar to the digital-circuit simulator of [3.3.4](#g_t3_002e3_002e4). Although the primitive objects of the constraint system are somewhat more complex, the overall system is simpler, since there is no concern about agendas and logic delays.\n",
    "\n",
    "The basic operations on connectors are the following:\n",
    "\n",
    "- `(has-value? ⟨connector⟩)` tells whether the connector has a value.\n",
    "- `(get-value ⟨connector⟩)` returns the connector’s current value.\n",
    "- `(set-value! ⟨connector⟩ ⟨new-value⟩ ⟨informant⟩)` indicates that the informant is requesting the connector to set its value to the new value.\n",
    "- `(forget-value! ⟨connector⟩ ⟨retractor⟩)` tells the connector that the retractor is requesting it to forget its value.\n",
    "- `(connect ⟨connector⟩ ⟨new-constraint⟩)` tells the connector to participate in the new constraint.\n",
    "\n",
    "The connectors communicate with the constraints by means of the procedures `inform-about-value`, which tells the given constraint that the connector has a value, and `inform-about-no-value`, which tells the constraint that the connector has lost its value.\n",
    "\n",
    "`Adder` constructs an adder constraint among summand connectors `a1` and `a2` and a `sum` connector. An adder is implemented as a procedure with local state (the procedure `me` below):"
   ]
  },
  {
   "cell_type": "code",
   "execution_count": null,
   "metadata": {
    "attributes": {
     "classes": [
      "scheme"
     ],
     "id": ""
    }
   },
   "outputs": [],
   "source": [
    "(define (adder a1 a2 sum)\n",
    "  (define (process-new-value)\n",
    "    (cond ((and (has-value? a1) \n",
    "                (has-value? a2))\n",
    "           (set-value! sum\n",
    "                       (+ (get-value a1) \n",
    "                          (get-value a2))\n",
    "                       me))\n",
    "          ((and (has-value? a1) \n",
    "                (has-value? sum))\n",
    "           (set-value! a2\n",
    "                       (- (get-value sum) \n",
    "                          (get-value a1))\n",
    "                       me))\n",
    "          ((and (has-value? a2) \n",
    "                (has-value? sum))\n",
    "           (set-value! a1\n",
    "                       (- (get-value sum) \n",
    "                          (get-value a2))\n",
    "                       me))))\n",
    "  (define (process-forget-value)\n",
    "    (forget-value! sum me)\n",
    "    (forget-value! a1 me)\n",
    "    (forget-value! a2 me)\n",
    "    (process-new-value))\n",
    "  (define (me request)\n",
    "    (cond ((eq? request 'I-have-a-value)\n",
    "           (process-new-value))\n",
    "          ((eq? request 'I-lost-my-value)\n",
    "           (process-forget-value))\n",
    "          (else (error \"Unknown request: \n",
    "                        ADDER\" request))))\n",
    "  (connect a1 me)\n",
    "  (connect a2 me)\n",
    "  (connect sum me)\n",
    "  me)"
   ]
  },
  {
   "cell_type": "markdown",
   "metadata": {},
   "source": [
    "`Adder` connects the new adder to the designated connectors and returns it as its value. The procedure `me`, which represents the adder, acts as a dispatch to the local procedures. The following “syntax interfaces” (see [Footnote 155](#Footnote-155) in [3.3.4](#g_t3_002e3_002e4)) are used in conjunction with the dispatch:"
   ]
  },
  {
   "cell_type": "code",
   "execution_count": null,
   "metadata": {
    "attributes": {
     "classes": [
      "scheme"
     ],
     "id": ""
    }
   },
   "outputs": [],
   "source": [
    "(define (inform-about-value constraint)\n",
    "  (constraint 'I-have-a-value))\n",
    "(define (inform-about-no-value constraint)\n",
    "  (constraint 'I-lost-my-value))"
   ]
  },
  {
   "cell_type": "markdown",
   "metadata": {},
   "source": [
    "The adder’s local procedure `process-new-value` is called when the adder is informed that one of its connectors has a value. The adder first checks to see if both `a1` and `a2` have values. If so, it tells `sum` to set its value to the sum of the two addends. The `informant` argument to `set-value!` is `me`, which is the adder object itself. If `a1` and `a2` do not both have values, then the adder checks to see if perhaps `a1` and `sum` have values. If so, it sets `a2` to the difference of these two. Finally, if `a2` and `sum` have values, this gives the adder enough information to set `a1`. If the adder is told that one of its connectors has lost a value, it requests that all of its connectors now lose their values. (Only those values that were set by this adder are actually lost.) Then it runs `process-new-value`. The reason for this last step is that one or more connectors may still have a value (that is, a connector may have had a value that was not originally set by the adder), and these values may need to be propagated back through the adder.\n",
    "\n",
    "A multiplier is very similar to an adder. It will set its `product` to 0 if either of the factors is 0, even if the other factor is not known."
   ]
  },
  {
   "cell_type": "code",
   "execution_count": null,
   "metadata": {
    "attributes": {
     "classes": [
      "scheme"
     ],
     "id": ""
    }
   },
   "outputs": [],
   "source": [
    "(define (multiplier m1 m2 product)\n",
    "  (define (process-new-value)\n",
    "    (cond ((or (and (has-value? m1) \n",
    "                    (= (get-value m1) 0))\n",
    "               (and (has-value? m2) \n",
    "                    (= (get-value m2) 0)))\n",
    "           (set-value! product 0 me))\n",
    "          ((and (has-value? m1) \n",
    "                (has-value? m2))\n",
    "           (set-value! product\n",
    "                       (* (get-value m1) \n",
    "                          (get-value m2))\n",
    "                       me))\n",
    "          ((and (has-value? product) \n",
    "                (has-value? m1))\n",
    "           (set-value! m2\n",
    "                       (/ (get-value product) \n",
    "                          (get-value m1))\n",
    "                       me))\n",
    "          ((and (has-value? product) \n",
    "                (has-value? m2))\n",
    "           (set-value! m1\n",
    "                       (/ (get-value product) \n",
    "                          (get-value m2))\n",
    "                       me))))\n",
    "  (define (process-forget-value)\n",
    "    (forget-value! product me)\n",
    "    (forget-value! m1 me)\n",
    "    (forget-value! m2 me)\n",
    "    (process-new-value))\n",
    "  (define (me request)\n",
    "    (cond ((eq? request 'I-have-a-value)\n",
    "           (process-new-value))\n",
    "          ((eq? request 'I-lost-my-value)\n",
    "           (process-forget-value))\n",
    "          (else\n",
    "           (error \"Unknown request: \n",
    "                   MULTIPLIER\" \n",
    "                  request))))\n",
    "  (connect m1 me)\n",
    "  (connect m2 me)\n",
    "  (connect product me)\n",
    "  me)"
   ]
  },
  {
   "cell_type": "markdown",
   "metadata": {},
   "source": [
    "A `constant` constructor simply sets the value of the designated connector. Any `I-have-a-value` or `I-lost-my-value` message sent to the constant box will produce an error."
   ]
  },
  {
   "cell_type": "code",
   "execution_count": null,
   "metadata": {
    "attributes": {
     "classes": [
      "scheme"
     ],
     "id": ""
    }
   },
   "outputs": [],
   "source": [
    "(define (constant value connector)\n",
    "  (define (me request)\n",
    "    (error \"Unknown request: CONSTANT\" \n",
    "           request))\n",
    "  (connect connector me)\n",
    "  (set-value! connector value me)\n",
    "  me)"
   ]
  },
  {
   "cell_type": "markdown",
   "metadata": {},
   "source": [
    "Finally, a probe prints a message about the setting or unsetting of the designated connector:"
   ]
  },
  {
   "cell_type": "code",
   "execution_count": null,
   "metadata": {
    "attributes": {
     "classes": [
      "scheme"
     ],
     "id": ""
    }
   },
   "outputs": [],
   "source": [
    "(define (probe name connector)\n",
    "  (define (print-probe value)\n",
    "    (newline) (display \"Probe: \")\n",
    "    (display name) (display \" = \")\n",
    "    (display value))\n",
    "  (define (process-new-value)\n",
    "    (print-probe (get-value connector)))\n",
    "  (define (process-forget-value)\n",
    "    (print-probe \"?\"))\n",
    "  (define (me request)\n",
    "    (cond ((eq? request 'I-have-a-value)\n",
    "           (process-new-value))\n",
    "          ((eq? request 'I-lost-my-value)\n",
    "           (process-forget-value))\n",
    "          (else (error \"Unknown request: \n",
    "                        PROBE\" request))))\n",
    "  (connect connector me)\n",
    "  me)"
   ]
  },
  {
   "cell_type": "markdown",
   "metadata": {},
   "source": [
    "### Representing connectors\n",
    "\n",
    "A connector is represented as a procedural object with local state variables `value`, the current value of the connector; `informant`, the object that set the connector’s value; and `constraints`, a list of the constraints in which the connector participates."
   ]
  },
  {
   "cell_type": "code",
   "execution_count": null,
   "metadata": {
    "attributes": {
     "classes": [
      "scheme"
     ],
     "id": ""
    }
   },
   "outputs": [],
   "source": [
    "(define (make-connector)\n",
    "  (let ((value false) \n",
    "        (informant false) \n",
    "        (constraints '()))\n",
    "    (define (set-my-value newval setter)\n",
    "      (cond ((not (has-value? me))\n",
    "             (set! value newval)\n",
    "             (set! informant setter)\n",
    "             (for-each-except \n",
    "              setter\n",
    "              inform-about-value\n",
    "              constraints))\n",
    "            ((not (= value newval))\n",
    "             (error \"Contradiction\" \n",
    "                    (list value newval)))\n",
    "            (else 'ignored)))\n",
    "    (define (forget-my-value retractor)\n",
    "      (if (eq? retractor informant)\n",
    "          (begin (set! informant false)\n",
    "                 (for-each-except \n",
    "                  retractor\n",
    "                  inform-about-no-value\n",
    "                  constraints))\n",
    "          'ignored))\n",
    "    (define (connect new-constraint)\n",
    "      (if (not (memq new-constraint \n",
    "                     constraints))\n",
    "          (set! constraints\n",
    "                (cons new-constraint \n",
    "                      constraints)))\n",
    "      (if (has-value? me)\n",
    "          (inform-about-value new-constraint))\n",
    "      'done)\n",
    "    (define (me request)\n",
    "      (cond ((eq? request 'has-value?)\n",
    "             (if informant true false))\n",
    "            ((eq? request 'value) value)\n",
    "            ((eq? request 'set-value!) \n",
    "             set-my-value)\n",
    "            ((eq? request 'forget) \n",
    "             forget-my-value)\n",
    "            ((eq? request 'connect) connect)\n",
    "            (else (error \"Unknown operation: \n",
    "                          CONNECTOR\"\n",
    "                         request))))\n",
    "    me))"
   ]
  },
  {
   "cell_type": "markdown",
   "metadata": {},
   "source": [
    "The connector’s local procedure `set-my-value` is called when there is a request to set the connector’s value. If the connector does not currently have a value, it will set its value and remember as `informant` the constraint that requested the value to be set.^[The `setter` might not be a constraint. In our temperature example, we used `user` as the `setter`.] Then the connector will notify all of its participating constraints except the constraint that requested the value to be set. This is accomplished using the following iterator, which applies a designated procedure to all items in a list except a given one:"
   ]
  },
  {
   "cell_type": "code",
   "execution_count": null,
   "metadata": {
    "attributes": {
     "classes": [
      "scheme"
     ],
     "id": ""
    }
   },
   "outputs": [],
   "source": [
    "(define (for-each-except exception \n",
    "                         procedure \n",
    "                         list)\n",
    "  (define (loop items)\n",
    "    (cond ((null? items) 'done)\n",
    "          ((eq? (car items) exception) \n",
    "           (loop (cdr items)))\n",
    "          (else (procedure (car items))\n",
    "                (loop (cdr items)))))\n",
    "  (loop list))"
   ]
  },
  {
   "cell_type": "markdown",
   "metadata": {},
   "source": [
    "If a connector is asked to forget its value, it runs the local procedure `forget-my-value`, which first checks to make sure that the request is coming from the same object that set the value originally. If so, the connector informs its associated constraints about the loss of the value.\n",
    "\n",
    "The local procedure `connect` adds the designated new constraint to the list of constraints if it is not already in that list. Then, if the connector has a value, it informs the new constraint of this fact.\n",
    "\n",
    "The connector’s procedure `me` serves as a dispatch to the other internal procedures and also represents the connector as an object. The following procedures provide a syntax interface for the dispatch:"
   ]
  },
  {
   "cell_type": "code",
   "execution_count": null,
   "metadata": {
    "attributes": {
     "classes": [
      "scheme"
     ],
     "id": ""
    }
   },
   "outputs": [],
   "source": [
    "(define (has-value? connector)\n",
    "  (connector 'has-value?))\n",
    "(define (get-value connector)\n",
    "  (connector 'value))\n",
    "(define (set-value! connector \n",
    "                    new-value \n",
    "                    informant)\n",
    "  ((connector 'set-value!) \n",
    "   new-value \n",
    "   informant))\n",
    "(define (forget-value! connector retractor)\n",
    "  ((connector 'forget) retractor))\n",
    "(define (connect connector new-constraint)\n",
    "  ((connector 'connect) new-constraint))"
   ]
  },
  {
   "cell_type": "markdown",
   "metadata": {},
   "source": [
    "**Exercise 3.33:** Using primitive multiplier, adder, and constant constraints, define a procedure `averager` that takes three connectors `a`, `b`, and `c` as inputs and establishes the constraint that the value of `c` is the average of the values of `a` and `b`.\n",
    "\n",
    "**Exercise 3.34:** Louis Reasoner wants to build a squarer, a constraint device with two terminals such that the value of connector `b` on the second terminal will always be the square of the value `a` on the first terminal. He proposes the following simple device made from a multiplier:"
   ]
  },
  {
   "cell_type": "code",
   "execution_count": null,
   "metadata": {
    "attributes": {
     "classes": [
      "scheme"
     ],
     "id": ""
    }
   },
   "outputs": [],
   "source": [
    "(define (squarer a b) (multiplier a a b))"
   ]
  },
  {
   "cell_type": "markdown",
   "metadata": {},
   "source": [
    "There is a serious flaw in this idea. Explain.\n",
    "\n",
    "**Exercise 3.35:** Ben Bitdiddle tells Louis that one way to avoid the trouble in [Exercise 3.34](#Exercise-3_002e34) is to define a squarer as a new primitive constraint. Fill in the missing portions in Ben’s outline for a procedure to implement such a constraint:"
   ]
  },
  {
   "cell_type": "code",
   "execution_count": null,
   "metadata": {
    "attributes": {
     "classes": [
      "scheme"
     ],
     "id": ""
    }
   },
   "outputs": [],
   "source": [
    "(define (squarer a b)\n",
    "  (define (process-new-value)\n",
    "    (if (has-value? b)\n",
    "        (if (< (get-value b) 0)\n",
    "            (error \"square less than 0: \n",
    "                    SQUARER\" \n",
    "                   (get-value b))\n",
    "            ⟨alternative1⟩)\n",
    "        ⟨alternative2⟩))\n",
    "  (define (process-forget-value) ⟨body1⟩)\n",
    "  (define (me request) ⟨body2⟩)\n",
    "  ⟨rest of definition⟩\n",
    "  me)"
   ]
  },
  {
   "cell_type": "markdown",
   "metadata": {},
   "source": [
    "**Exercise 3.36:** Suppose we evaluate the following sequence of expressions in the global environment:"
   ]
  },
  {
   "cell_type": "code",
   "execution_count": null,
   "metadata": {
    "attributes": {
     "classes": [
      "scheme"
     ],
     "id": ""
    }
   },
   "outputs": [],
   "source": [
    "(define a (make-connector))\n",
    "(define b (make-connector))\n",
    "(set-value! a 10 'user)"
   ]
  },
  {
   "cell_type": "markdown",
   "metadata": {},
   "source": [
    "At some time during evaluation of the `set-value!`, the following expression from the connector’s local procedure is evaluated:"
   ]
  },
  {
   "cell_type": "code",
   "execution_count": null,
   "metadata": {
    "attributes": {
     "classes": [
      "scheme"
     ],
     "id": ""
    }
   },
   "outputs": [],
   "source": [
    "(for-each-except \n",
    "  setter inform-about-value constraints)"
   ]
  },
  {
   "cell_type": "markdown",
   "metadata": {},
   "source": [
    "Draw an environment diagram showing the environment in which the above expression is evaluated.\n",
    "\n",
    "**Exercise 3.37:** The `celsius-fahrenheit-converter` procedure is cumbersome when compared with a more expression-oriented style of definition, such as"
   ]
  },
  {
   "cell_type": "code",
   "execution_count": null,
   "metadata": {
    "attributes": {
     "classes": [
      "scheme"
     ],
     "id": ""
    }
   },
   "outputs": [],
   "source": [
    "(define (celsius-fahrenheit-converter x)\n",
    "  (c+ (c* (c/ (cv 9) (cv 5))\n",
    "          x)\n",
    "      (cv 32)))\n",
    "\n",
    "(define C (make-connector))\n",
    "(define F (celsius-fahrenheit-converter C))"
   ]
  },
  {
   "cell_type": "markdown",
   "metadata": {},
   "source": [
    "Here `c+`, `c*`, etc. are the “constraint” versions of the arithmetic operations. For example, `c+` takes two connectors as arguments and returns a connector that is related to these by an adder constraint:"
   ]
  },
  {
   "cell_type": "code",
   "execution_count": null,
   "metadata": {
    "attributes": {
     "classes": [
      "scheme"
     ],
     "id": ""
    }
   },
   "outputs": [],
   "source": [
    "(define (c+ x y)\n",
    "  (let ((z (make-connector)))\n",
    "    (adder x y z)\n",
    "    z))"
   ]
  },
  {
   "cell_type": "markdown",
   "metadata": {},
   "source": [
    "Define analogous procedures `c-`, `c*`, `c/`, and `cv` (constant value) that enable us to define compound constraints as in the converter example above.^[The expression-oriented format is convenient because it avoids the need to name the intermediate expressions in a computation. Our original formulation of the constraint language is cumbersome in the same way that many languages are cumbersome when dealing with operations on compound data. For example, if we wanted to compute the product $(a + b) \\cdot (c + d)$, where the variables represent vectors, we could work in “imperative style,” using procedures that set the values of designated vector arguments but do not themselves return vectors as values:]"
   ]
  }
 ],
 "metadata": {},
 "nbformat": 4,
 "nbformat_minor": 4
}
