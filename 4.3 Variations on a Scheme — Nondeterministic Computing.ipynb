{
 "cells": [
  {
   "cell_type": "markdown",
   "metadata": {},
   "source": [
    "# 4.3 Variations on a Scheme — Nondeterministic Computing\n",
    "\n",
    "In this section, we extend the Scheme evaluator to support a programming paradigm called *nondeterministic computing* by building into the evaluator a facility to support automatic search. This is a much more profound change to the language than the introduction of lazy evaluation in [4.2](4_002e2.xhtml#g_t4_002e2).\n",
    "\n",
    "Nondeterministic computing, like stream processing, is useful for “generate and test” applications. Consider the task of starting with two lists of positive integers and finding a pair of integers—one from the first list and one from the second list—whose sum is prime. We saw how to handle this with finite sequence operations in [2.2.3](2_002e2.xhtml#g_t2_002e2_002e3) and with infinite streams in [3.5.3](3_002e5.xhtml#g_t3_002e5_002e3). Our approach was to generate the sequence of all possible pairs and filter these to select the pairs whose sum is prime. Whether we actually generate the entire sequence of pairs first as in [Chapter 2](Chapter-2.xhtml#Chapter-2), or interleave the generating and filtering as in [Chapter 3](Chapter-3.xhtml#Chapter-3), is immaterial to the essential image of how the computation is organized.\n",
    "\n",
    "The nondeterministic approach evokes a different image. Imagine simply that we choose (in some way) a number from the first list and a number from the second list and require (using some mechanism) that their sum be prime. This is expressed by following procedure:"
   ]
  },
  {
   "cell_type": "code",
   "execution_count": null,
   "metadata": {
    "attributes": {
     "classes": [
      "scheme"
     ],
     "id": ""
    }
   },
   "outputs": [],
   "source": [
    "(define (prime-sum-pair list1 list2)\n",
    "  (let ((a (an-element-of list1))\n",
    "        (b (an-element-of list2)))\n",
    "    (require (prime? (+ a b)))\n",
    "    (list a b)))"
   ]
  },
  {
   "cell_type": "markdown",
   "metadata": {},
   "source": [
    "It might seem as if this procedure merely restates the problem, rather than specifying a way to solve it. Nevertheless, this is a legitimate nondeterministic program.^[We assume that we have previously defined a procedure `prime?` that tests whether numbers are prime. Even with `prime?` defined, the `prime-sum-pair` procedure may look suspiciously like the unhelpful “pseudo-Lisp” attempt to define the square-root function, which we described at the beginning of [1.1.7](1_002e1.xhtml#g_t1_002e1_002e7). In fact, a square-root procedure along those lines can actually be formulated as a nondeterministic program. By incorporating a search mechanism into the evaluator, we are eroding the distinction between purely declarative descriptions and imperative specifications of how to compute answers. We’ll go even farther in this direction in [4.4](4_002e4.xhtml#g_t4_002e4).]\n",
    "\n",
    "The key idea here is that expressions in a nondeterministic language can have more than one possible value. For instance, `an-element-of` might return any element of the given list. Our nondeterministic program evaluator will work by automatically choosing a possible value and keeping track of the choice. If a subsequent requirement is not met, the evaluator will try a different choice, and it will keep trying new choices until the evaluation succeeds, or until we run out of choices. Just as the lazy evaluator freed the programmer from the details of how values are delayed and forced, the nondeterministic program evaluator will free the programmer from the details of how choices are made.\n",
    "\n",
    "It is instructive to contrast the different images of time evoked by nondeterministic evaluation and stream processing. Stream processing uses lazy evaluation to decouple the time when the stream of possible answers is assembled from the time when the actual stream elements are produced. The evaluator supports the illusion that all the possible answers are laid out before us in a timeless sequence. With nondeterministic evaluation, an expression represents the exploration of a set of possible worlds, each determined by a set of choices. Some of the possible worlds lead to dead ends, while others have useful values. The nondeterministic program evaluator supports the illusion that time branches, and that our programs have different possible execution histories. When we reach a dead end, we can revisit a previous choice point and proceed along a different branch.\n",
    "\n",
    "The nondeterministic program evaluator implemented below is called the `amb` evaluator because it is based on a new special form called `amb`. We can type the above definition of `prime-sum-pair` at the `amb` evaluator driver loop (along with definitions of `prime?`, `an-element-of`, and `require`) and run the procedure as follows:"
   ]
  },
  {
   "cell_type": "code",
   "execution_count": null,
   "metadata": {
    "attributes": {
     "classes": [
      "scheme"
     ],
     "id": ""
    }
   },
   "outputs": [],
   "source": [
    ";;; Amb-Eval input:\n",
    "(prime-sum-pair '(1 3 5 8) '(20 35 110))\n",
    "\n",
    ";;; Starting a new problem\n",
    ";;; Amb-Eval value:\n",
    "(3 20)"
   ]
  },
  {
   "cell_type": "markdown",
   "metadata": {},
   "source": [
    "The value returned was obtained after the evaluator repeatedly chose elements from each of the lists, until a successful choice was made.\n",
    "\n",
    "Section [4.3.1](#g_t4_002e3_002e1) introduces `amb` and explains how it supports nondeterminism through the evaluator’s automatic search mechanism. [4.3.2](#g_t4_002e3_002e2) presents examples of nondeterministic programs, and [4.3.3](#g_t4_002e3_002e3) gives the details of how to implement the `amb` evaluator by modifying the ordinary Scheme evaluator.\n",
    "\n",
    "\n",
    "## 4.3.1 Amb and Search\n",
    "\n",
    "To extend Scheme to support nondeterminism, we introduce a new special form called `amb`.^[The idea of `amb` for nondeterministic programming was first described in 1961 by John McCarthy (see [McCarthy 1963](References.xhtml#McCarthy-1963)).] The expression"
   ]
  },
  {
   "cell_type": "code",
   "execution_count": null,
   "metadata": {
    "attributes": {
     "classes": [
      "scheme"
     ],
     "id": ""
    }
   },
   "outputs": [],
   "source": [
    "(amb ⟨e₁⟩ ⟨e₂⟩ … ⟨eₙ⟩)"
   ]
  },
  {
   "cell_type": "markdown",
   "metadata": {},
   "source": [
    "returns the value of one of the $n$ expressions $\\langle\\mspace{1mu} e_{i}\\rangle$ “ambiguously.” For example, the expression"
   ]
  },
  {
   "cell_type": "code",
   "execution_count": null,
   "metadata": {
    "attributes": {
     "classes": [
      "scheme"
     ],
     "id": ""
    }
   },
   "outputs": [],
   "source": [
    "(list (amb 1 2 3) (amb 'a 'b))"
   ]
  },
  {
   "cell_type": "markdown",
   "metadata": {},
   "source": [
    "can have six possible values:"
   ]
  },
  {
   "cell_type": "code",
   "execution_count": null,
   "metadata": {
    "attributes": {
     "classes": [
      "example"
     ],
     "id": ""
    }
   },
   "outputs": [],
   "source": [
    "(1 a) (1 b) (2 a) (2 b) (3 a) (3 b)"
   ]
  },
  {
   "cell_type": "markdown",
   "metadata": {},
   "source": [
    "`Amb` with a single choice produces an ordinary (single) value.\n",
    "\n",
    "`Amb` with no choices—the expression `(amb)`—is an expression with no acceptable values. Operationally, we can think of `(amb)` as an expression that when evaluated causes the computation to “fail”: The computation aborts and no value is produced. Using this idea, we can express the requirement that a particular predicate expression `p` must be true as follows:"
   ]
  },
  {
   "cell_type": "code",
   "execution_count": null,
   "metadata": {
    "attributes": {
     "classes": [
      "scheme"
     ],
     "id": ""
    }
   },
   "outputs": [],
   "source": [
    "(define (require p)\n",
    "  (if (not p) (amb)))"
   ]
  },
  {
   "cell_type": "markdown",
   "metadata": {},
   "source": [
    "With `amb` and `require`, we can implement the `an-element-of` procedure used above:"
   ]
  },
  {
   "cell_type": "code",
   "execution_count": null,
   "metadata": {
    "attributes": {
     "classes": [
      "scheme"
     ],
     "id": ""
    }
   },
   "outputs": [],
   "source": [
    "(define (an-element-of items)\n",
    "  (require (not (null? items)))\n",
    "  (amb (car items) \n",
    "       (an-element-of (cdr items))))"
   ]
  },
  {
   "cell_type": "markdown",
   "metadata": {},
   "source": [
    "`An-element-of` fails if the list is empty. Otherwise it ambiguously returns either the first element of the list or an element chosen from the rest of the list.\n",
    "\n",
    "We can also express infinite ranges of choices. The following procedure potentially returns any integer greater than or equal to some given $n$:"
   ]
  },
  {
   "cell_type": "code",
   "execution_count": null,
   "metadata": {
    "attributes": {
     "classes": [
      "scheme"
     ],
     "id": ""
    }
   },
   "outputs": [],
   "source": [
    "(define (an-integer-starting-from n)\n",
    "  (amb n (an-integer-starting-from (+ n 1))))"
   ]
  },
  {
   "cell_type": "markdown",
   "metadata": {},
   "source": [
    "This is like the stream procedure `integers-starting-from` described in [3.5.2](3_002e5.xhtml#g_t3_002e5_002e2), but with an important difference: The stream procedure returns an object that represents the sequence of all integers beginning with $n$, whereas the `amb` procedure returns a single integer.^[In actuality, the distinction between nondeterministically returning a single choice and returning all choices depends somewhat on our point of view. From the perspective of the code that uses the value, the nondeterministic choice returns a single value. From the perspective of the programmer designing the code, the nondeterministic choice potentially returns all possible values, and the computation branches so that each value is investigated separately.]\n",
    "\n",
    "Abstractly, we can imagine that evaluating an `amb` expression causes time to split into branches, where the computation continues on each branch with one of the possible values of the expression. We say that `amb` represents a *nondeterministic choice point*. If we had a machine with a sufficient number of processors that could be dynamically allocated, we could implement the search in a straightforward way. Execution would proceed as in a sequential machine, until an `amb` expression is encountered. At this point, more processors would be allocated and initialized to continue all of the parallel executions implied by the choice. Each processor would proceed sequentially as if it were the only choice, until it either terminates by encountering a failure, or it further subdivides, or it finishes.^[One might object that this is a hopelessly inefficient mechanism. It might require millions of processors to solve some easily stated problem this way, and most of the time most of those processors would be idle. This objection should be taken in the context of history. Memory used to be considered just such an expensive commodity. In 1964 a megabyte of RAM cost about \\$400,000. Now every personal computer has many megabytes of RAM, and most of the time most of that RAM is unused. It is hard to underestimate the cost of mass-produced electronics.]\n",
    "\n",
    "On the other hand, if we have a machine that can execute only one process (or a few concurrent processes), we must consider the alternatives sequentially. One could imagine modifying an evaluator to pick at random a branch to follow whenever it encounters a choice point. Random choice, however, can easily lead to failing values. We might try running the evaluator over and over, making random choices and hoping to find a non-failing value, but it is better to *systematically search* all possible execution paths. The `amb` evaluator that we will develop and work with in this section implements a systematic search as follows: When the evaluator encounters an application of `amb`, it initially selects the first alternative. This selection may itself lead to a further choice. The evaluator will always initially choose the first alternative at each choice point. If a choice results in a failure, then the evaluator automagically^[utomagically: “Automatically, but in a way which, for some reason (typically because it is too complicated, or too ugly, or perhaps even too trivial), the speaker doesn’t feel like explaining.” ([Steele et al. 1983](References.xhtml#Steele-et-al_002e-1983), [Raymond 1993](References.xhtml#Raymond-1993))] *backtracks* to the most recent choice point and tries the next alternative. If it runs out of alternatives at any choice point, the evaluator will back up to the previous choice point and resume from there. This process leads to a search strategy known as *depth-first search* or *chronological backtracking*.^[The integration of automatic search strategies into programming languages has had a long and checkered history. The first suggestions that nondeterministic algorithms might be elegantly encoded in a programming language with search and automatic backtracking came from Robert [Floyd (1967)](References.xhtml#Floyd-_00281967_0029). Carl [Hewitt (1969)](References.xhtml#Hewitt-_00281969_0029) invented a programming language called Planner that explicitly supported automatic chronological backtracking, providing for a built-in depth-first search strategy. [Sussman et al. (1971)](References.xhtml#Sussman-et-al_002e-_00281971_0029) implemented a subset of this language, called MicroPlanner, which was used to support work in problem solving and robot planning. Similar ideas, arising from logic and theorem proving, led to the genesis in Edinburgh and Marseille of the elegant language Prolog (which we will discuss in [4.4](4_002e4.xhtml#g_t4_002e4)). After sufficient frustration with automatic search, [McDermott and Sussman (1972)](References.xhtml#McDermott-and-Sussman-_00281972_0029) developed a language called Conniver, which included mechanisms for placing the search strategy under programmer control. This proved unwieldy, however, and [Sussman and Stallman 1975](References.xhtml#Sussman-and-Stallman-1975) found a more tractable approach while investigating methods of symbolic analysis for electrical circuits. They developed a non-chronological backtracking scheme that was based on tracing out the logical dependencies connecting facts, a technique that has come to be known as *dependency-directed backtracking*. Although their method was complex, it produced reasonably efficient programs because it did little redundant search. [Doyle (1979)](References.xhtml#Doyle-_00281979_0029) and [McAllester (1978; 1980)](References.xhtml#McAllester-_00281978_003b-1980_0029) generalized and clarified the methods of Stallman and Sussman, developing a new paradigm for formulating search that is now called *truth maintenance*. Modern problem-solving systems all use some form of truth-maintenance system as a substrate. See [Forbus and deKleer 1993](References.xhtml#Forbus-and-deKleer-1993) for a discussion of elegant ways to build truth-maintenance systems and applications using truth maintenance. [Zabih et al. 1987](References.xhtml#Zabih-et-al_002e-1987) describes a nondeterministic extension to Scheme that is based on `amb`; it is similar to the interpreter described in this section, but more sophisticated, because it uses dependency-directed backtracking rather than chronological backtracking. [Winston 1992](References.xhtml#Winston-1992) gives an introduction to both kinds of backtracking.]\n",
    "\n",
    "\n",
    "### Driver loop\n",
    "\n",
    "The driver loop for the `amb` evaluator has some unusual properties. It reads an expression and prints the value of the first non-failing execution, as in the `prime-sum-pair` example shown above. If we want to see the value of the next successful execution, we can ask the interpreter to backtrack and attempt to generate a second non-failing execution. This is signaled by typing the symbol `try-again`. If any expression except `try-again` is given, the interpreter will start a new problem, discarding the unexplored alternatives in the previous problem. Here is a sample interaction:"
   ]
  },
  {
   "cell_type": "code",
   "execution_count": null,
   "metadata": {
    "attributes": {
     "classes": [
      "scheme"
     ],
     "id": ""
    }
   },
   "outputs": [],
   "source": [
    ";;; Amb-Eval input:\n",
    "(prime-sum-pair '(1 3 5 8) '(20 35 110))\n",
    "\n",
    ";;; Starting a new problem\n",
    ";;; Amb-Eval value:\n",
    "(3 20)\n",
    "\n",
    ";;; Amb-Eval input:\n",
    "try-again\n",
    "\n",
    ";;; Amb-Eval value:\n",
    "(3 110)\n",
    "\n",
    ";;; Amb-Eval input:\n",
    "try-again\n",
    "\n",
    ";;; Amb-Eval value:\n",
    "(8 35)\n",
    "\n",
    ";;; Amb-Eval input:\n",
    "try-again\n",
    "\n",
    ";;; There are no more values of\n",
    "(prime-sum-pair \n",
    " (quote (1 3 5 8)) \n",
    " (quote (20 35 110)))\n",
    "\n",
    ";;; Amb-Eval input:\n",
    "(prime-sum-pair '(19 27 30) '(11 36 58))\n",
    "\n",
    ";;; Starting a new problem\n",
    ";;; Amb-Eval value:\n",
    "(30 11)"
   ]
  },
  {
   "cell_type": "markdown",
   "metadata": {},
   "source": [
    "**Exercise 4.35:** Write a procedure `an-integer-between` that returns an integer between two given bounds. This can be used to implement a procedure that finds Pythagorean triples, i.e., triples of integers $(i,j,k)$ between the given bounds such that $i \\leq j$ and $i^{2} + j^{2} = k^{2}$, as follows:"
   ]
  },
  {
   "cell_type": "code",
   "execution_count": null,
   "metadata": {
    "attributes": {
     "classes": [
      "scheme"
     ],
     "id": ""
    }
   },
   "outputs": [],
   "source": [
    "(define (a-pythagorean-triple-between low high)\n",
    "  (let ((i (an-integer-between low high)))\n",
    "    (let ((j (an-integer-between i high)))\n",
    "      (let ((k (an-integer-between j high)))\n",
    "        (require (= (+ (* i i) (* j j)) \n",
    "                    (* k k)))\n",
    "        (list i j k)))))"
   ]
  },
  {
   "cell_type": "markdown",
   "metadata": {},
   "source": [
    "**Exercise 4.36:** [Exercise 3.69](3_002e5.xhtml#Exercise-3_002e69) discussed how to generate the stream of *all* Pythagorean triples, with no upper bound on the size of the integers to be searched. Explain why simply replacing `an-integer-between` by `an-integer-starting-from` in the procedure in [Exercise 4.35](#Exercise-4_002e35) is not an adequate way to generate arbitrary Pythagorean triples. Write a procedure that actually will accomplish this. (That is, write a procedure for which repeatedly typing `try-again` would in principle eventually generate all Pythagorean triples.)\n",
    "\n",
    "**Exercise 4.37:** Ben Bitdiddle claims that the following method for generating Pythagorean triples is more efficient than the one in [Exercise 4.35](#Exercise-4_002e35). Is he correct? (Hint: Consider the number of possibilities that must be explored.)"
   ]
  },
  {
   "cell_type": "code",
   "execution_count": null,
   "metadata": {
    "attributes": {
     "classes": [
      "scheme"
     ],
     "id": ""
    }
   },
   "outputs": [],
   "source": [
    "(define (a-pythagorean-triple-between low high)\n",
    "  (let ((i (an-integer-between low high))\n",
    "        (hsq (* high high)))\n",
    "    (let ((j (an-integer-between i high)))\n",
    "      (let ((ksq (+ (* i i) (* j j))))\n",
    "        (require (>= hsq ksq))\n",
    "        (let ((k (sqrt ksq)))\n",
    "          (require (integer? k))\n",
    "          (list i j k))))))"
   ]
  },
  {
   "cell_type": "markdown",
   "metadata": {},
   "source": [
    "## 4.3.2 Examples of Nondeterministic Programs\n",
    "\n",
    "Section [4.3.3](#g_t4_002e3_002e3) describes the implementation of the `amb` evaluator. First, however, we give some examples of how it can be used. The advantage of nondeterministic programming is that we can suppress the details of how search is carried out, thereby expressing our programs at a higher level of abstraction.\n",
    "\n",
    "\n",
    "### Logic Puzzles\n",
    "\n",
    "The following puzzle (taken from [Dinesman 1968](References.xhtml#Dinesman-1968)) is typical of a large class of simple logic puzzles:\n",
    "\n",
    "> Baker, Cooper, Fletcher, Miller, and Smith live on different floors of an apartment house that contains only five floors. Baker does not live on the top floor. Cooper does not live on the bottom floor. Fletcher does not live on either the top or the bottom floor. Miller lives on a higher floor than does Cooper. Smith does not live on a floor adjacent to Fletcher’s. Fletcher does not live on a floor adjacent to Cooper’s. Where does everyone live?\n",
    "\n",
    "We can determine who lives on each floor in a straightforward way by enumerating all the possibilities and imposing the given restrictions:^[Our program uses the following procedure to determine if the elements of a list are distinct:]"
   ]
  },
  {
   "cell_type": "code",
   "execution_count": null,
   "metadata": {
    "attributes": {
     "classes": [
      "scheme"
     ],
     "id": ""
    }
   },
   "outputs": [],
   "source": [
    "(define (multiple-dwelling)\n",
    "  (let ((baker (amb 1 2 3 4 5))\n",
    "        (cooper (amb 1 2 3 4 5))\n",
    "        (fletcher (amb 1 2 3 4 5))\n",
    "        (miller (amb 1 2 3 4 5))\n",
    "        (smith (amb 1 2 3 4 5)))\n",
    "    (require\n",
    "     (distinct? (list baker cooper fletcher \n",
    "                      miller smith)))\n",
    "    (require (not (= baker 5)))\n",
    "    (require (not (= cooper 1)))\n",
    "    (require (not (= fletcher 5)))\n",
    "    (require (not (= fletcher 1)))\n",
    "    (require (> miller cooper))\n",
    "    (require\n",
    "     (not (= (abs (- smith fletcher)) 1)))\n",
    "    (require \n",
    "     (not (= (abs (- fletcher cooper)) 1)))\n",
    "    (list (list 'baker baker)\n",
    "          (list 'cooper cooper)\n",
    "          (list 'fletcher fletcher)\n",
    "          (list 'miller miller)\n",
    "          (list 'smith smith))))"
   ]
  },
  {
   "cell_type": "markdown",
   "metadata": {},
   "source": [
    "Evaluating the expression `(multiple-dwelling)` produces the result"
   ]
  },
  {
   "cell_type": "code",
   "execution_count": null,
   "metadata": {
    "attributes": {
     "classes": [
      "scheme"
     ],
     "id": ""
    }
   },
   "outputs": [],
   "source": [
    "((baker 3) (cooper 2) (fletcher 4)\n",
    " (miller 5) (smith 1))"
   ]
  },
  {
   "cell_type": "markdown",
   "metadata": {},
   "source": [
    "Although this simple procedure works, it is very slow. [Exercise 4.39](#Exercise-4_002e39) and [Exercise 4.40](#Exercise-4_002e40) discuss some possible improvements.\n",
    "\n",
    "**Exercise 4.38:** Modify the multiple-dwelling procedure to omit the requirement that Smith and Fletcher do not live on adjacent floors. How many solutions are there to this modified puzzle?\n",
    "\n",
    "**Exercise 4.39:** Does the order of the restrictions in the multiple-dwelling procedure affect the answer? Does it affect the time to find an answer? If you think it matters, demonstrate a faster program obtained from the given one by reordering the restrictions. If you think it does not matter, argue your case.\n",
    "\n",
    "**Exercise 4.40:** In the multiple dwelling problem, how many sets of assignments are there of people to floors, both before and after the requirement that floor assignments be distinct? It is very inefficient to generate all possible assignments of people to floors and then leave it to backtracking to eliminate them. For example, most of the restrictions depend on only one or two of the person-floor variables, and can thus be imposed before floors have been selected for all the people. Write and demonstrate a much more efficient nondeterministic procedure that solves this problem based upon generating only those possibilities that are not already ruled out by previous restrictions. (Hint: This will require a nest of `let` expressions.)\n",
    "\n",
    "**Exercise 4.41:** Write an ordinary Scheme program to solve the multiple dwelling puzzle.\n",
    "\n",
    "**Exercise 4.42:** Solve the following “Liars” puzzle (from [Phillips 1934](References.xhtml#Phillips-1934)):\n",
    "\n",
    "Five schoolgirls sat for an examination. Their parents—so they thought—showed an undue degree of interest in the result. They therefore agreed that, in writing home about the examination, each girl should make one true statement and one untrue one. The following are the relevant passages from their letters:\n",
    "\n",
    "- Betty: “Kitty was second in the examination. I was only third.”\n",
    "- Ethel: “You’ll be glad to hear that I was on top. Joan was second.”\n",
    "- Joan: “I was third, and poor old Ethel was bottom.”\n",
    "- Kitty: “I came out second. Mary was only fourth.”\n",
    "- Mary: “I was fourth. Top place was taken by Betty.”\n",
    "\n",
    "What in fact was the order in which the five girls were placed?\n",
    "\n",
    "**Exercise 4.43:** Use the `amb` evaluator to solve the following puzzle:^[This is taken from a booklet called “Problematical Recreations,” published in the 1960s by Litton Industries, where it is attributed to the Kansas State Engineer.]\n",
    "\n",
    "Mary Ann Moore’s father has a yacht and so has each of his four friends: Colonel Downing, Mr. Hall, Sir Barnacle Hood, and Dr. Parker. Each of the five also has one daughter and each has named his yacht after a daughter of one of the others. Sir Barnacle’s yacht is the Gabrielle, Mr. Moore owns the Lorna; Mr. Hall the Rosalind. The Melissa, owned by Colonel Downing, is named after Sir Barnacle’s daughter. Gabrielle’s father owns the yacht that is named after Dr. Parker’s daughter. Who is Lorna’s father?\n",
    "\n",
    "Try to write the program so that it runs efficiently (see [Exercise 4.40](#Exercise-4_002e40)). Also determine how many solutions there are if we are not told that Mary Ann’s last name is Moore.\n",
    "\n",
    "**Exercise 4.44:** [Exercise 2.42](2_002e2.xhtml#Exercise-2_002e42) described the “eight-queens puzzle” of placing queens on a chessboard so that no two attack each other. Write a nondeterministic program to solve this puzzle.\n",
    "\n",
    "\n",
    "### Parsing natural language\n",
    "\n",
    "Programs designed to accept natural language as input usually start by attempting to *parse* the input, that is, to match the input against some grammatical structure. For example, we might try to recognize simple sentences consisting of an article followed by a noun followed by a verb, such as “The cat eats.” To accomplish such an analysis, we must be able to identify the parts of speech of individual words. We could start with some lists that classify various words:^[Here we use the convention that the first element of each list designates the part of speech for the rest of the words in the list.]"
   ]
  },
  {
   "cell_type": "code",
   "execution_count": null,
   "metadata": {
    "attributes": {
     "classes": [
      "scheme"
     ],
     "id": ""
    }
   },
   "outputs": [],
   "source": [
    "(define nouns \n",
    "  '(noun student professor cat class))\n",
    "\n",
    "(define verbs \n",
    "  '(verb studies lectures eats sleeps))\n",
    "\n",
    "(define articles '(article the a))"
   ]
  },
  {
   "cell_type": "markdown",
   "metadata": {},
   "source": [
    "We also need a *grammar*, that is, a set of rules describing how grammatical elements are composed from simpler elements. A very simple grammar might stipulate that a sentence always consists of two pieces—a noun phrase followed by a verb—and that a noun phrase consists of an article followed by a noun. With this grammar, the sentence “The cat eats” is parsed as follows:"
   ]
  },
  {
   "cell_type": "code",
   "execution_count": null,
   "metadata": {
    "attributes": {
     "classes": [
      "scheme"
     ],
     "id": ""
    }
   },
   "outputs": [],
   "source": [
    "(sentence\n",
    " (noun-phrase (article the) (noun cat))\n",
    " (verb eats))"
   ]
  },
  {
   "cell_type": "markdown",
   "metadata": {},
   "source": [
    "We can generate such a parse with a simple program that has separate procedures for each of the grammatical rules. To parse a sentence, we identify its two constituent pieces and return a list of these two elements, tagged with the symbol `sentence`:"
   ]
  },
  {
   "cell_type": "code",
   "execution_count": null,
   "metadata": {
    "attributes": {
     "classes": [
      "scheme"
     ],
     "id": ""
    }
   },
   "outputs": [],
   "source": [
    "(define (parse-sentence)\n",
    "  (list 'sentence\n",
    "         (parse-noun-phrase)\n",
    "         (parse-word verbs)))"
   ]
  },
  {
   "cell_type": "markdown",
   "metadata": {},
   "source": [
    "A noun phrase, similarly, is parsed by finding an article followed by a noun:"
   ]
  },
  {
   "cell_type": "code",
   "execution_count": null,
   "metadata": {
    "attributes": {
     "classes": [
      "scheme"
     ],
     "id": ""
    }
   },
   "outputs": [],
   "source": [
    "(define (parse-noun-phrase)\n",
    "  (list 'noun-phrase\n",
    "        (parse-word articles)\n",
    "        (parse-word nouns)))"
   ]
  },
  {
   "cell_type": "markdown",
   "metadata": {},
   "source": [
    "At the lowest level, parsing boils down to repeatedly checking that the next unparsed word is a member of the list of words for the required part of speech. To implement this, we maintain a global variable `*unparsed*`, which is the input that has not yet been parsed. Each time we check a word, we require that `*unparsed*` must be non-empty and that it should begin with a word from the designated list. If so, we remove that word from `*unparsed*` and return the word together with its part of speech (which is found at the head of the list):^[Notice that `parse-word` uses `set!` to modify the unparsed input list. For this to work, our `amb` evaluator must undo the effects of `set!` operations when it backtracks.]"
   ]
  },
  {
   "cell_type": "code",
   "execution_count": null,
   "metadata": {
    "attributes": {
     "classes": [
      "scheme"
     ],
     "id": ""
    }
   },
   "outputs": [],
   "source": [
    "(define (parse-word word-list)\n",
    "  (require (not (null? *unparsed*)))\n",
    "  (require (memq (car *unparsed*) \n",
    "                 (cdr word-list)))\n",
    "  (let ((found-word (car *unparsed*)))\n",
    "    (set! *unparsed* (cdr *unparsed*))\n",
    "    (list (car word-list) found-word)))"
   ]
  },
  {
   "cell_type": "markdown",
   "metadata": {},
   "source": [
    "To start the parsing, all we need to do is set `*unparsed*` to be the entire input, try to parse a sentence, and check that nothing is left over:"
   ]
  },
  {
   "cell_type": "code",
   "execution_count": null,
   "metadata": {
    "attributes": {
     "classes": [
      "scheme"
     ],
     "id": ""
    }
   },
   "outputs": [],
   "source": [
    "(define *unparsed* '())\n",
    "(define (parse input)\n",
    "  (set! *unparsed* input)\n",
    "  (let ((sent (parse-sentence)))\n",
    "    (require (null? *unparsed*))\n",
    "    sent))"
   ]
  },
  {
   "cell_type": "markdown",
   "metadata": {},
   "source": [
    "We can now try the parser and verify that it works for our simple test sentence:"
   ]
  },
  {
   "cell_type": "code",
   "execution_count": null,
   "metadata": {
    "attributes": {
     "classes": [
      "scheme"
     ],
     "id": ""
    }
   },
   "outputs": [],
   "source": [
    ";;; Amb-Eval input:\n",
    "(parse '(the cat eats))\n",
    "\n",
    ";;; Starting a new problem\n",
    ";;; Amb-Eval value:\n",
    "(sentence \n",
    " (noun-phrase (article the) (noun cat))\n",
    " (verb eats))"
   ]
  },
  {
   "cell_type": "markdown",
   "metadata": {},
   "source": [
    "The `amb` evaluator is useful here because it is convenient to express the parsing constraints with the aid of `require`. Automatic search and backtracking really pay off, however, when we consider more complex grammars where there are choices for how the units can be decomposed.\n",
    "\n",
    "Let’s add to our grammar a list of prepositions:"
   ]
  },
  {
   "cell_type": "code",
   "execution_count": null,
   "metadata": {
    "attributes": {
     "classes": [
      "scheme"
     ],
     "id": ""
    }
   },
   "outputs": [],
   "source": [
    "(define prepositions \n",
    "  '(prep for to in by with))"
   ]
  },
  {
   "cell_type": "markdown",
   "metadata": {},
   "source": [
    "and define a prepositional phrase (e.g., “for the cat”) to be a preposition followed by a noun phrase:"
   ]
  },
  {
   "cell_type": "code",
   "execution_count": null,
   "metadata": {
    "attributes": {
     "classes": [
      "scheme"
     ],
     "id": ""
    }
   },
   "outputs": [],
   "source": [
    "(define (parse-prepositional-phrase)\n",
    "  (list 'prep-phrase\n",
    "        (parse-word prepositions)\n",
    "        (parse-noun-phrase)))"
   ]
  },
  {
   "cell_type": "markdown",
   "metadata": {},
   "source": [
    "Now we can define a sentence to be a noun phrase followed by a verb phrase, where a verb phrase can be either a verb or a verb phrase extended by a prepositional phrase:^[Observe that this definition is recursive—a verb may be followed by any number of prepositional phrases.]"
   ]
  },
  {
   "cell_type": "code",
   "execution_count": null,
   "metadata": {
    "attributes": {
     "classes": [
      "scheme"
     ],
     "id": ""
    }
   },
   "outputs": [],
   "source": [
    "(define (parse-sentence)\n",
    "  (list 'sentence\n",
    "         (parse-noun-phrase)\n",
    "         (parse-verb-phrase)))\n",
    "\n",
    "(define (parse-verb-phrase)\n",
    "  (define (maybe-extend verb-phrase)\n",
    "    (amb \n",
    "     verb-phrase\n",
    "     (maybe-extend \n",
    "      (list 'verb-phrase\n",
    "            verb-phrase\n",
    "            (parse-prepositional-phrase)))))\n",
    "  (maybe-extend (parse-word verbs)))"
   ]
  },
  {
   "cell_type": "markdown",
   "metadata": {},
   "source": [
    "While we’re at it, we can also elaborate the definition of noun phrases to permit such things as “a cat in the class.” What we used to call a noun phrase, we’ll now call a simple noun phrase, and a noun phrase will now be either a simple noun phrase or a noun phrase extended by a prepositional phrase:"
   ]
  },
  {
   "cell_type": "code",
   "execution_count": null,
   "metadata": {
    "attributes": {
     "classes": [
      "scheme"
     ],
     "id": ""
    }
   },
   "outputs": [],
   "source": [
    "(define (parse-simple-noun-phrase)\n",
    "  (list 'simple-noun-phrase\n",
    "        (parse-word articles)\n",
    "        (parse-word nouns)))\n",
    "\n",
    "(define (parse-noun-phrase)\n",
    "  (define (maybe-extend noun-phrase)\n",
    "    (amb \n",
    "     noun-phrase\n",
    "     (maybe-extend \n",
    "      (list 'noun-phrase\n",
    "            noun-phrase\n",
    "            (parse-prepositional-phrase)))))\n",
    "  (maybe-extend (parse-simple-noun-phrase)))"
   ]
  },
  {
   "cell_type": "markdown",
   "metadata": {},
   "source": [
    "Our new grammar lets us parse more complex sentences. For example"
   ]
  },
  {
   "cell_type": "code",
   "execution_count": null,
   "metadata": {
    "attributes": {
     "classes": [
      "scheme"
     ],
     "id": ""
    }
   },
   "outputs": [],
   "source": [
    "(parse '(the student with the cat \n",
    "         sleeps in the class))"
   ]
  },
  {
   "cell_type": "markdown",
   "metadata": {},
   "source": [
    "produces"
   ]
  },
  {
   "cell_type": "code",
   "execution_count": null,
   "metadata": {
    "attributes": {
     "classes": [
      "scheme"
     ],
     "id": ""
    }
   },
   "outputs": [],
   "source": [
    "(sentence\n",
    " (noun-phrase\n",
    "  (simple-noun-phrase (article the) \n",
    "                      (noun student))\n",
    "  (prep-phrase (prep with)\n",
    "               (simple-noun-phrase\n",
    "                (article the)\n",
    "                (noun cat))))\n",
    " (verb-phrase\n",
    "  (verb sleeps)\n",
    "  (prep-phrase (prep in)\n",
    "               (simple-noun-phrase\n",
    "                (article the)\n",
    "                (noun class)))))"
   ]
  },
  {
   "cell_type": "markdown",
   "metadata": {},
   "source": [
    "Observe that a given input may have more than one legal parse. In the sentence “The professor lectures to the student with the cat,” it may be that the professor is lecturing with the cat, or that the student has the cat. Our nondeterministic program finds both possibilities:"
   ]
  },
  {
   "cell_type": "code",
   "execution_count": null,
   "metadata": {
    "attributes": {
     "classes": [
      "scheme"
     ],
     "id": ""
    }
   },
   "outputs": [],
   "source": [
    "(parse '(the professor lectures to \n",
    "         the student with the cat))"
   ]
  },
  {
   "cell_type": "markdown",
   "metadata": {},
   "source": [
    "produces"
   ]
  },
  {
   "cell_type": "code",
   "execution_count": null,
   "metadata": {
    "attributes": {
     "classes": [
      "scheme"
     ],
     "id": ""
    }
   },
   "outputs": [],
   "source": [
    "(sentence\n",
    " (simple-noun-phrase (article the) \n",
    "                     (noun professor))\n",
    " (verb-phrase\n",
    "  (verb-phrase\n",
    "   (verb lectures)\n",
    "   (prep-phrase (prep to)\n",
    "                (simple-noun-phrase\n",
    "                 (article the) \n",
    "                 (noun student))))\n",
    "  (prep-phrase (prep with)\n",
    "               (simple-noun-phrase\n",
    "                (article the) \n",
    "                (noun cat)))))"
   ]
  },
  {
   "cell_type": "markdown",
   "metadata": {},
   "source": [
    "Asking the evaluator to try again yields"
   ]
  },
  {
   "cell_type": "code",
   "execution_count": null,
   "metadata": {
    "attributes": {
     "classes": [
      "scheme"
     ],
     "id": ""
    }
   },
   "outputs": [],
   "source": [
    "(sentence\n",
    " (simple-noun-phrase (article the) \n",
    "                     (noun professor))\n",
    " (verb-phrase (verb lectures)\n",
    "              (prep-phrase \n",
    "               (prep to)\n",
    "               (noun-phrase\n",
    "                (simple-noun-phrase\n",
    "                 (article the) \n",
    "                 (noun student))\n",
    "                (prep-phrase \n",
    "                 (prep with)\n",
    "                 (simple-noun-phrase\n",
    "                  (article the) \n",
    "                  (noun cat)))))))"
   ]
  },
  {
   "cell_type": "markdown",
   "metadata": {},
   "source": [
    "**Exercise 4.45:** With the grammar given above, the following sentence can be parsed in five different ways: “The professor lectures to the student in the class with the cat.” Give the five parses and explain the differences in shades of meaning among them.\n",
    "\n",
    "**Exercise 4.46:** The evaluators in [4.1](4_002e1.xhtml#g_t4_002e1) and [4.2](4_002e2.xhtml#g_t4_002e2) do not determine what order operands are evaluated in. We will see that the `amb` evaluator evaluates them from left to right. Explain why our parsing program wouldn’t work if the operands were evaluated in some other order.\n",
    "\n",
    "**Exercise 4.47:** Louis Reasoner suggests that, since a verb phrase is either a verb or a verb phrase followed by a prepositional phrase, it would be much more straightforward to define the procedure `parse-verb-phrase` as follows (and similarly for noun phrases):"
   ]
  },
  {
   "cell_type": "code",
   "execution_count": null,
   "metadata": {
    "attributes": {
     "classes": [
      "scheme"
     ],
     "id": ""
    }
   },
   "outputs": [],
   "source": [
    "(define (parse-verb-phrase)\n",
    "  (amb (parse-word verbs)\n",
    "       (list \n",
    "        'verb-phrase\n",
    "        (parse-verb-phrase)\n",
    "        (parse-prepositional-phrase))))"
   ]
  },
  {
   "cell_type": "markdown",
   "metadata": {},
   "source": [
    "Does this work? Does the program’s behavior change if we interchange the order of expressions in the `amb`?\n",
    "\n",
    "**Exercise 4.48:** Extend the grammar given above to handle more complex sentences. For example, you could extend noun phrases and verb phrases to include adjectives and adverbs, or you could handle compound sentences.^[This kind of grammar can become arbitrarily complex, but it is only a toy as far as real language understanding is concerned. Real natural-language understanding by computer requires an elaborate mixture of syntactic analysis and interpretation of meaning. On the other hand, even toy parsers can be useful in supporting flexible command languages for programs such as information-retrieval systems. [Winston 1992](References.xhtml#Winston-1992) discusses computational approaches to real language understanding and also the applications of simple grammars to command languages.]\n",
    "\n",
    "**Exercise 4.49:** Alyssa P. Hacker is more interested in generating interesting sentences than in parsing them. She reasons that by simply changing the procedure `parse-word` so that it ignores the “input sentence” and instead always succeeds and generates an appropriate word, we can use the programs we had built for parsing to do generation instead. Implement Alyssa’s idea, and show the first half-dozen or so sentences generated.^[Although Alyssa’s idea works just fine (and is surprisingly simple), the sentences that it generates are a bit boring—they don’t sample the possible sentences of this language in a very interesting way. In fact, the grammar is highly recursive in many places, and Alyssa’s technique “falls into” one of these recursions and gets stuck. See [Exercise 4.50](#Exercise-4_002e50) for a way to deal with this.]\n",
    "\n",
    "\n",
    "## 4.3.3 Implementing the `Amb` Evaluator\n",
    "\n",
    "The evaluation of an ordinary Scheme expression may return a value, may never terminate, or may signal an error. In nondeterministic Scheme the evaluation of an expression may in addition result in the discovery of a dead end, in which case evaluation must backtrack to a previous choice point. The interpretation of nondeterministic Scheme is complicated by this extra case.\n",
    "\n",
    "We will construct the `amb` evaluator for nondeterministic Scheme by modifying the analyzing evaluator of [4.1.7](4_002e1.xhtml#g_t4_002e1_002e7).^[We chose to implement the lazy evaluator in [4.2](4_002e2.xhtml#g_t4_002e2) as a modification of the ordinary metacircular evaluator of [4.1.1](4_002e1.xhtml#g_t4_002e1_002e1). In contrast, we will base the `amb` evaluator on the analyzing evaluator of [4.1.7](4_002e1.xhtml#g_t4_002e1_002e7), because the execution procedures in that evaluator provide a convenient framework for implementing backtracking.] As in the analyzing evaluator, evaluation of an expression is accomplished by calling an execution procedure produced by analysis of that expression. The difference between the interpretation of ordinary Scheme and the interpretation of nondeterministic Scheme will be entirely in the execution procedures.\n",
    "\n",
    "\n",
    "### Execution procedures and continuations\n",
    "\n",
    "Recall that the execution procedures for the ordinary evaluator take one argument: the environment of execution. In contrast, the execution procedures in the `amb` evaluator take three arguments: the environment, and two procedures called *continuation procedures*. The evaluation of an expression will finish by calling one of these two continuations: If the evaluation results in a value, the *success continuation* is called with that value; if the evaluation results in the discovery of a dead end, the *failure continuation* is called. Constructing and calling appropriate continuations is the mechanism by which the nondeterministic evaluator implements backtracking.\n",
    "\n",
    "It is the job of the success continuation to receive a value and proceed with the computation. Along with that value, the success continuation is passed another failure continuation, which is to be called subsequently if the use of that value leads to a dead end.\n",
    "\n",
    "It is the job of the failure continuation to try another branch of the nondeterministic process. The essence of the nondeterministic language is in the fact that expressions may represent choices among alternatives. The evaluation of such an expression must proceed with one of the indicated alternative choices, even though it is not known in advance which choices will lead to acceptable results. To deal with this, the evaluator picks one of the alternatives and passes this value to the success continuation. Together with this value, the evaluator constructs and passes along a failure continuation that can be called later to choose a different alternative.\n",
    "\n",
    "A failure is triggered during evaluation (that is, a failure continuation is called) when a user program explicitly rejects the current line of attack (for example, a call to `require` may result in execution of `(amb)`, an expression that always fails—see [4.3.1](#g_t4_002e3_002e1)). The failure continuation in hand at that point will cause the most recent choice point to choose another alternative. If there are no more alternatives to be considered at that choice point, a failure at an earlier choice point is triggered, and so on. Failure continuations are also invoked by the driver loop in response to a `try-again` request, to find another value of the expression.\n",
    "\n",
    "In addition, if a side-effect operation (such as assignment to a variable) occurs on a branch of the process resulting from a choice, it may be necessary, when the process finds a dead end, to undo the side effect before making a new choice. This is accomplished by having the side-effect operation produce a failure continuation that undoes the side effect and propagates the failure.\n",
    "\n",
    "In summary, failure continuations are constructed by\n",
    "\n",
    "- `amb` expressions—to provide a mechanism to make alternative choices if the current choice made by the `amb` expression leads to a dead end;\n",
    "- the top-level driver—to provide a mechanism to report failure when the choices are exhausted;\n",
    "- assignments—to intercept failures and undo assignments during backtracking.\n",
    "\n",
    "Failures are initiated only when a dead end is encountered. This occurs\n",
    "\n",
    "- if the user program executes `(amb)`;\n",
    "- if the user types `try-again` at the top-level driver.\n",
    "\n",
    "Failure continuations are also called during processing of a failure:\n",
    "\n",
    "- When the failure continuation created by an assignment finishes undoing a side effect, it calls the failure continuation it intercepted, in order to propagate the failure back to the choice point that led to this assignment or to the top level.\n",
    "- When the failure continuation for an `amb` runs out of choices, it calls the failure continuation that was originally given to the `amb`, in order to propagate the failure back to the previous choice point or to the top level.\n",
    "\n",
    "\n",
    "### Structure of the evaluator\n",
    "\n",
    "The syntax- and data-representation procedures for the `amb` evaluator, and also the basic `analyze` procedure, are identical to those in the evaluator of [4.1.7](4_002e1.xhtml#g_t4_002e1_002e7), except for the fact that we need additional syntax procedures to recognize the `amb` special form:^[We assume that the evaluator supports `let` (see [Exercise 4.22](4_002e1.xhtml#Exercise-4_002e22)), which we have used in our nondeterministic programs.]"
   ]
  },
  {
   "cell_type": "code",
   "execution_count": null,
   "metadata": {
    "attributes": {
     "classes": [
      "scheme"
     ],
     "id": ""
    }
   },
   "outputs": [],
   "source": [
    "(define (amb? exp) (tagged-list? exp 'amb))\n",
    "(define (amb-choices exp) (cdr exp))"
   ]
  },
  {
   "cell_type": "markdown",
   "metadata": {},
   "source": [
    "We must also add to the dispatch in `analyze` a clause that will recognize this special form and generate an appropriate execution procedure:"
   ]
  },
  {
   "cell_type": "code",
   "execution_count": null,
   "metadata": {
    "attributes": {
     "classes": [
      "scheme"
     ],
     "id": ""
    }
   },
   "outputs": [],
   "source": [
    "((amb? exp) (analyze-amb exp))"
   ]
  },
  {
   "cell_type": "markdown",
   "metadata": {},
   "source": [
    "The top-level procedure `ambeval` (similar to the version of `eval` given in [4.1.7](4_002e1.xhtml#g_t4_002e1_002e7)) analyzes the given expression and applies the resulting execution procedure to the given environment, together with two given continuations:"
   ]
  },
  {
   "cell_type": "code",
   "execution_count": null,
   "metadata": {
    "attributes": {
     "classes": [
      "scheme"
     ],
     "id": ""
    }
   },
   "outputs": [],
   "source": [
    "(define (ambeval exp env succeed fail)\n",
    "  ((analyze exp) env succeed fail))"
   ]
  },
  {
   "cell_type": "markdown",
   "metadata": {},
   "source": [
    "A success continuation is a procedure of two arguments: the value just obtained and another failure continuation to be used if that value leads to a subsequent failure. A failure continuation is a procedure of no arguments. So the general form of an execution procedure is"
   ]
  },
  {
   "cell_type": "code",
   "execution_count": null,
   "metadata": {
    "attributes": {
     "classes": [
      "scheme"
     ],
     "id": ""
    }
   },
   "outputs": [],
   "source": [
    "(lambda (env succeed fail)\n",
    "  ;; succeed is (lambda (value fail) …)\n",
    "  ;; fail is (lambda () …)\n",
    "  …)"
   ]
  },
  {
   "cell_type": "markdown",
   "metadata": {},
   "source": [
    "For example, executing"
   ]
  },
  {
   "cell_type": "code",
   "execution_count": null,
   "metadata": {
    "attributes": {
     "classes": [
      "scheme"
     ],
     "id": ""
    }
   },
   "outputs": [],
   "source": [
    "(ambeval ⟨exp⟩\n",
    "         the-global-environment\n",
    "         (lambda (value fail) value)\n",
    "         (lambda () 'failed))"
   ]
  },
  {
   "cell_type": "markdown",
   "metadata": {},
   "source": [
    "will attempt to evaluate the given expression and will return either the expression’s value (if the evaluation succeeds) or the symbol `failed` (if the evaluation fails). The call to `ambeval` in the driver loop shown below uses much more complicated continuation procedures, which continue the loop and support the `try-again` request.\n",
    "\n",
    "Most of the complexity of the `amb` evaluator results from the mechanics of passing the continuations around as the execution procedures call each other. In going through the following code, you should compare each of the execution procedures with the corresponding procedure for the ordinary evaluator given in [4.1.7](4_002e1.xhtml#g_t4_002e1_002e7).\n",
    "\n",
    "\n",
    "### Simple expressions\n",
    "\n",
    "The execution procedures for the simplest kinds of expressions are essentially the same as those for the ordinary evaluator, except for the need to manage the continuations. The execution procedures simply succeed with the value of the expression, passing along the failure continuation that was passed to them."
   ]
  },
  {
   "cell_type": "code",
   "execution_count": null,
   "metadata": {
    "attributes": {
     "classes": [
      "scheme"
     ],
     "id": ""
    }
   },
   "outputs": [],
   "source": [
    "(define (analyze-self-evaluating exp)\n",
    "  (lambda (env succeed fail)\n",
    "    (succeed exp fail)))\n",
    "\n",
    "(define (analyze-quoted exp)\n",
    "  (let ((qval (text-of-quotation exp)))\n",
    "    (lambda (env succeed fail)\n",
    "      (succeed qval fail))))\n",
    "\n",
    "(define (analyze-variable exp)\n",
    "  (lambda (env succeed fail)\n",
    "    (succeed (lookup-variable-value exp env)\n",
    "             fail)))\n",
    "\n",
    "(define (analyze-lambda exp)\n",
    "  (let ((vars (lambda-parameters exp))\n",
    "        (bproc (analyze-sequence \n",
    "                (lambda-body exp))))\n",
    "    (lambda (env succeed fail)\n",
    "      (succeed (make-procedure vars bproc env)\n",
    "               fail))))"
   ]
  },
  {
   "cell_type": "markdown",
   "metadata": {},
   "source": [
    "Notice that looking up a variable always ‘succeeds.’ If `lookup-variable-value` fails to find the variable, it signals an error, as usual. Such a “failure” indicates a program bug—a reference to an unbound variable; it is not an indication that we should try another nondeterministic choice instead of the one that is currently being tried.\n",
    "\n",
    "\n",
    "### Conditionals and sequences\n",
    "\n",
    "Conditionals are also handled in a similar way as in the ordinary evaluator. The execution procedure generated by `analyze-if` invokes the predicate execution procedure `pproc` with a success continuation that checks whether the predicate value is true and goes on to execute either the consequent or the alternative. If the execution of `pproc` fails, the original failure continuation for the `if` expression is called."
   ]
  },
  {
   "cell_type": "code",
   "execution_count": null,
   "metadata": {
    "attributes": {
     "classes": [
      "scheme"
     ],
     "id": ""
    }
   },
   "outputs": [],
   "source": [
    "(define (analyze-if exp)\n",
    "  (let ((pproc (analyze (if-predicate exp)))\n",
    "        (cproc (analyze (if-consequent exp)))\n",
    "        (aproc (analyze (if-alternative exp))))\n",
    "    (lambda (env succeed fail)\n",
    "      (pproc env\n",
    "             ;; success continuation for evaluating\n",
    "             ;; the predicate to obtain pred-value\n",
    "             (lambda (pred-value fail2)\n",
    "               (if (true? pred-value)\n",
    "                   (cproc env succeed fail2)\n",
    "                   (aproc env succeed fail2)))\n",
    "             ;; failure continuation for\n",
    "             ;; evaluating the predicate\n",
    "             fail))))"
   ]
  },
  {
   "cell_type": "markdown",
   "metadata": {},
   "source": [
    "Sequences are also handled in the same way as in the previous evaluator, except for the machinations in the subprocedure `sequentially` that are required for passing the continuations. Namely, to sequentially execute `a` and then `b`, we call `a` with a success continuation that calls `b`."
   ]
  },
  {
   "cell_type": "code",
   "execution_count": null,
   "metadata": {
    "attributes": {
     "classes": [
      "scheme"
     ],
     "id": ""
    }
   },
   "outputs": [],
   "source": [
    "(define (analyze-sequence exps)\n",
    "  (define (sequentially a b)\n",
    "    (lambda (env succeed fail)\n",
    "      (a env\n",
    "         ;; success continuation for calling a\n",
    "         (lambda (a-value fail2)\n",
    "           (b env succeed fail2))\n",
    "         ;; failure continuation for calling a\n",
    "         fail)))\n",
    "  (define (loop first-proc rest-procs)\n",
    "    (if (null? rest-procs)\n",
    "        first-proc\n",
    "        (loop (sequentially first-proc \n",
    "                            (car rest-procs))\n",
    "              (cdr rest-procs))))\n",
    "  (let ((procs (map analyze exps)))\n",
    "    (if (null? procs)\n",
    "        (error \"Empty sequence: ANALYZE\"))\n",
    "    (loop (car procs) (cdr procs))))"
   ]
  },
  {
   "cell_type": "markdown",
   "metadata": {},
   "source": [
    "### Definitions and assignments\n",
    "\n",
    "Definitions are another case where we must go to some trouble to manage the continuations, because it is necessary to evaluate the definition-value expression before actually defining the new variable. To accomplish this, the definition-value execution procedure `vproc` is called with the environment, a success continuation, and the failure continuation. If the execution of `vproc` succeeds, obtaining a value `val` for the defined variable, the variable is defined and the success is propagated:"
   ]
  },
  {
   "cell_type": "code",
   "execution_count": null,
   "metadata": {
    "attributes": {
     "classes": [
      "scheme"
     ],
     "id": ""
    }
   },
   "outputs": [],
   "source": [
    "(define (analyze-definition exp)\n",
    "  (let ((var (definition-variable exp))\n",
    "        (vproc (analyze \n",
    "                (definition-value exp))))\n",
    "    (lambda (env succeed fail)\n",
    "      (vproc env\n",
    "             (lambda (val fail2)\n",
    "               (define-variable! var val env)\n",
    "               (succeed 'ok fail2))\n",
    "             fail))))"
   ]
  },
  {
   "cell_type": "markdown",
   "metadata": {},
   "source": [
    "Assignments are more interesting. This is the first place where we really use the continuations, rather than just passing them around. The execution procedure for assignments starts out like the one for definitions. It first attempts to obtain the new value to be assigned to the variable. If this evaluation of `vproc` fails, the assignment fails.\n",
    "\n",
    "If `vproc` succeeds, however, and we go on to make the assignment, we must consider the possibility that this branch of the computation might later fail, which will require us to backtrack out of the assignment. Thus, we must arrange to undo the assignment as part of the backtracking process.^[We didn’t worry about undoing definitions, since we can assume that internal definitions are scanned out ([4.1.6](4_002e1.xhtml#g_t4_002e1_002e6)).]\n",
    "\n",
    "This is accomplished by giving `vproc` a success continuation (marked with the comment “\\*1\\*” below) that saves the old value of the variable before assigning the new value to the variable and proceeding from the assignment. The failure continuation that is passed along with the value of the assignment (marked with the comment “\\*2\\*” below) restores the old value of the variable before continuing the failure. That is, a successful assignment provides a failure continuation that will intercept a subsequent failure; whatever failure would otherwise have called `fail2` calls this procedure instead, to undo the assignment before actually calling `fail2`."
   ]
  },
  {
   "cell_type": "code",
   "execution_count": null,
   "metadata": {
    "attributes": {
     "classes": [
      "scheme"
     ],
     "id": ""
    }
   },
   "outputs": [],
   "source": [
    "(define (analyze-assignment exp)\n",
    "  (let ((var (assignment-variable exp))\n",
    "        (vproc (analyze \n",
    "                (assignment-value exp))))\n",
    "    (lambda (env succeed fail)\n",
    "      (vproc env\n",
    "             (lambda (val fail2)    ; *1*\n",
    "               (let ((old-value\n",
    "                      (lookup-variable-value \n",
    "                       var \n",
    "                       env)))\n",
    "                 (set-variable-value!\n",
    "                  var \n",
    "                  val \n",
    "                  env)\n",
    "                 (succeed \n",
    "                  'ok\n",
    "                  (lambda ()    ; *2*\n",
    "                    (set-variable-value! \n",
    "                     var\n",
    "                     old-value\n",
    "                     env)\n",
    "                    (fail2)))))\n",
    "               fail))))"
   ]
  },
  {
   "cell_type": "markdown",
   "metadata": {},
   "source": [
    "### Procedure applications\n",
    "\n",
    "The execution procedure for applications contains no new ideas except for the technical complexity of managing the continuations. This complexity arises in `analyze-application`, due to the need to keep track of the success and failure continuations as we evaluate the operands. We use a procedure `get-args` to evaluate the list of operands, rather than a simple `map` as in the ordinary evaluator."
   ]
  },
  {
   "cell_type": "code",
   "execution_count": null,
   "metadata": {
    "attributes": {
     "classes": [
      "scheme"
     ],
     "id": ""
    }
   },
   "outputs": [],
   "source": [
    "(define (analyze-application exp)\n",
    "  (let ((fproc (analyze (operator exp)))\n",
    "        (aprocs (map analyze (operands exp))))\n",
    "    (lambda (env succeed fail)\n",
    "      (fproc env\n",
    "             (lambda (proc fail2)\n",
    "               (get-args \n",
    "                aprocs\n",
    "                env\n",
    "                (lambda (args fail3)\n",
    "                  (execute-application\n",
    "                   proc args succeed fail3))\n",
    "                fail2))\n",
    "             fail))))"
   ]
  },
  {
   "cell_type": "markdown",
   "metadata": {},
   "source": [
    "In `get-args`, notice how `cdr`-ing down the list of `aproc` execution procedures and `cons`ing up the resulting list of `args` is accomplished by calling each `aproc` in the list with a success continuation that recursively calls `get-args`. Each of these recursive calls to `get-args` has a success continuation whose value is the `cons` of the newly obtained argument onto the list of accumulated arguments:"
   ]
  },
  {
   "cell_type": "code",
   "execution_count": null,
   "metadata": {
    "attributes": {
     "classes": [
      "scheme"
     ],
     "id": ""
    }
   },
   "outputs": [],
   "source": [
    "(define (get-args aprocs env succeed fail)\n",
    "  (if (null? aprocs)\n",
    "      (succeed '() fail)\n",
    "      ((car aprocs) \n",
    "       env\n",
    "       ;; success continuation for this aproc\n",
    "       (lambda (arg fail2)\n",
    "         (get-args \n",
    "          (cdr aprocs)\n",
    "          env\n",
    "          ;; success continuation for\n",
    "          ;; recursive call to get-args\n",
    "          (lambda (args fail3)\n",
    "            (succeed (cons arg args)\n",
    "                     fail3))\n",
    "          fail2))\n",
    "       fail)))"
   ]
  },
  {
   "cell_type": "markdown",
   "metadata": {},
   "source": [
    "The actual procedure application, which is performed by `execute-application`, is accomplished in the same way as for the ordinary evaluator, except for the need to manage the continuations."
   ]
  },
  {
   "cell_type": "code",
   "execution_count": null,
   "metadata": {
    "attributes": {
     "classes": [
      "scheme"
     ],
     "id": ""
    }
   },
   "outputs": [],
   "source": [
    "(define (execute-application \n",
    "         proc args succeed fail)\n",
    "  (cond ((primitive-procedure? proc)\n",
    "         (succeed \n",
    "          (apply-primitive-procedure \n",
    "           proc args)\n",
    "          fail))\n",
    "        ((compound-procedure? proc)\n",
    "         ((procedure-body proc)\n",
    "          (extend-environment \n",
    "           (procedure-parameters proc)\n",
    "           args\n",
    "           (procedure-environment proc))\n",
    "          succeed\n",
    "          fail))\n",
    "        (else (error \"Unknown procedure type: \n",
    "                      EXECUTE-APPLICATION\"\n",
    "                     proc))))"
   ]
  },
  {
   "cell_type": "markdown",
   "metadata": {},
   "source": [
    "### Evaluating `amb` expressions\n",
    "\n",
    "The `amb` special form is the key element in the nondeterministic language. Here we see the essence of the interpretation process and the reason for keeping track of the continuations. The execution procedure for `amb` defines a loop `try-next` that cycles through the execution procedures for all the possible values of the `amb` expression. Each execution procedure is called with a failure continuation that will try the next one. When there are no more alternatives to try, the entire `amb` expression fails."
   ]
  },
  {
   "cell_type": "code",
   "execution_count": null,
   "metadata": {
    "attributes": {
     "classes": [
      "scheme"
     ],
     "id": ""
    }
   },
   "outputs": [],
   "source": [
    "(define (analyze-amb exp)\n",
    "  (let ((cprocs\n",
    "         (map analyze (amb-choices exp))))\n",
    "    (lambda (env succeed fail)\n",
    "      (define (try-next choices)\n",
    "        (if (null? choices)\n",
    "            (fail)\n",
    "            ((car choices) \n",
    "             env\n",
    "             succeed\n",
    "             (lambda ()\n",
    "               (try-next (cdr choices))))))\n",
    "      (try-next cprocs))))"
   ]
  },
  {
   "cell_type": "markdown",
   "metadata": {},
   "source": [
    "### Driver loop\n",
    "\n",
    "The driver loop for the `amb` evaluator is complex, due to the mechanism that permits the user to try again in evaluating an expression. The driver uses a procedure called `internal-loop`, which takes as argument a procedure `try-again`. The intent is that calling `try-again` should go on to the next untried alternative in the nondeterministic evaluation. `Internal-loop` either calls `try-again` in response to the user typing `try-again` at the driver loop, or else starts a new evaluation by calling `ambeval`.\n",
    "\n",
    "The failure continuation for this call to `ambeval` informs the user that there are no more values and re-invokes the driver loop.\n",
    "\n",
    "The success continuation for the call to `ambeval` is more subtle. We print the obtained value and then invoke the internal loop again with a `try-again` procedure that will be able to try the next alternative. This `next-alternative` procedure is the second argument that was passed to the success continuation. Ordinarily, we think of this second argument as a failure continuation to be used if the current evaluation branch later fails. In this case, however, we have completed a successful evaluation, so we can invoke the “failure” alternative branch in order to search for additional successful evaluations."
   ]
  },
  {
   "cell_type": "code",
   "execution_count": null,
   "metadata": {
    "attributes": {
     "classes": [
      "scheme"
     ],
     "id": ""
    }
   },
   "outputs": [],
   "source": [
    "(define input-prompt  \";;; Amb-Eval input:\")\n",
    "(define output-prompt \";;; Amb-Eval value:\")\n",
    "\n",
    "(define (driver-loop)\n",
    "  (define (internal-loop try-again)\n",
    "    (prompt-for-input input-prompt)\n",
    "    (let ((input (read)))\n",
    "      (if (eq? input 'try-again)\n",
    "          (try-again)\n",
    "          (begin\n",
    "            (newline)\n",
    "            (display \n",
    "             \";;; Starting a new problem \")\n",
    "            (ambeval \n",
    "             input\n",
    "             the-global-environment\n",
    "             ;; ambeval success\n",
    "             (lambda (val next-alternative)\n",
    "               (announce-output \n",
    "                output-prompt)\n",
    "               (user-print val)\n",
    "               (internal-loop \n",
    "                next-alternative))\n",
    "             ;; ambeval failure\n",
    "             (lambda ()\n",
    "               (announce-output\n",
    "                \";;; There are no \n",
    "                 more values of\")\n",
    "               (user-print input)\n",
    "               (driver-loop)))))))\n",
    "  (internal-loop\n",
    "   (lambda ()\n",
    "     (newline)\n",
    "     (display \n",
    "      \";;; There is no current problem\")\n",
    "     (driver-loop))))"
   ]
  },
  {
   "cell_type": "markdown",
   "metadata": {},
   "source": [
    "The initial call to `internal-loop` uses a `try-again` procedure that complains that there is no current problem and restarts the driver loop. This is the behavior that will happen if the user types `try-again` when there is no evaluation in progress.\n",
    "\n",
    "**Exercise 4.50:** Implement a new special form `ramb` that is like `amb` except that it searches alternatives in a random order, rather than from left to right. Show how this can help with Alyssa’s problem in [Exercise 4.49](#Exercise-4_002e49).\n",
    "\n",
    "**Exercise 4.51:** Implement a new kind of assignment called `permanent-set!` that is not undone upon failure. For example, we can choose two distinct elements from a list and count the number of trials required to make a successful choice as follows:"
   ]
  },
  {
   "cell_type": "code",
   "execution_count": null,
   "metadata": {
    "attributes": {
     "classes": [
      "scheme"
     ],
     "id": ""
    }
   },
   "outputs": [],
   "source": [
    "(define count 0)\n",
    "(let ((x (an-element-of '(a b c)))\n",
    "      (y (an-element-of '(a b c))))\n",
    "  (permanent-set! count (+ count 1))\n",
    "  (require (not (eq? x y)))\n",
    "  (list x y count))\n",
    "\n",
    ";;; Starting a new problem\n",
    ";;; Amb-Eval value:\n",
    "(a b 2)\n",
    "\n",
    ";;; Amb-Eval input:\n",
    "try-again\n",
    "\n",
    ";;; Amb-Eval value:\n",
    "(a c 3)"
   ]
  },
  {
   "cell_type": "markdown",
   "metadata": {},
   "source": [
    "What values would have been displayed if we had used `set!` here rather than `permanent-set!`?\n",
    "\n",
    "**Exercise 4.52:** Implement a new construct called `if-fail` that permits the user to catch the failure of an expression. `If-fail` takes two expressions. It evaluates the first expression as usual and returns as usual if the evaluation succeeds. If the evaluation fails, however, the value of the second expression is returned, as in the following example:"
   ]
  },
  {
   "cell_type": "code",
   "execution_count": null,
   "metadata": {
    "attributes": {
     "classes": [
      "scheme"
     ],
     "id": ""
    }
   },
   "outputs": [],
   "source": [
    ";;; Amb-Eval input:\n",
    "(if-fail \n",
    " (let ((x (an-element-of '(1 3 5))))\n",
    "   (require (even? x))\n",
    "   x)\n",
    " 'all-odd)\n",
    "\n",
    ";;; Starting a new problem\n",
    ";;; Amb-Eval value:\n",
    "all-odd\n",
    "\n",
    ";;; Amb-Eval input:\n",
    "(if-fail\n",
    " (let ((x (an-element-of '(1 3 5 8))))\n",
    "   (require (even? x))\n",
    "   x)\n",
    " 'all-odd)\n",
    "\n",
    ";;; Starting a new problem\n",
    ";;; Amb-Eval value:\n",
    "8"
   ]
  },
  {
   "cell_type": "markdown",
   "metadata": {},
   "source": [
    "**Exercise 4.53:** With `permanent-set!` as described in [Exercise 4.51](#Exercise-4_002e51) and `if-fail` as in [Exercise 4.52](#Exercise-4_002e52), what will be the result of evaluating"
   ]
  },
  {
   "cell_type": "code",
   "execution_count": null,
   "metadata": {
    "attributes": {
     "classes": [
      "scheme"
     ],
     "id": ""
    }
   },
   "outputs": [],
   "source": [
    "(let ((pairs '()))\n",
    "  (if-fail \n",
    "   (let ((p (prime-sum-pair \n",
    "             '(1 3 5 8) \n",
    "             '(20 35 110))))\n",
    "     (permanent-set! pairs \n",
    "                     (cons p pairs))\n",
    "     (amb))\n",
    "   pairs))"
   ]
  },
  {
   "cell_type": "markdown",
   "metadata": {},
   "source": [
    "**Exercise 4.54:** If we had not realized that `require` could be implemented as an ordinary procedure that uses `amb`, to be defined by the user as part of a nondeterministic program, we would have had to implement it as a special form. This would require syntax procedures"
   ]
  },
  {
   "cell_type": "code",
   "execution_count": null,
   "metadata": {
    "attributes": {
     "classes": [
      "scheme"
     ],
     "id": ""
    }
   },
   "outputs": [],
   "source": [
    "(define (require? exp) \n",
    "  (tagged-list? exp 'require))\n",
    "\n",
    "(define (require-predicate exp) \n",
    "  (cadr exp))"
   ]
  },
  {
   "cell_type": "markdown",
   "metadata": {},
   "source": [
    "and a new clause in the dispatch in `analyze`"
   ]
  },
  {
   "cell_type": "code",
   "execution_count": null,
   "metadata": {
    "attributes": {
     "classes": [
      "scheme"
     ],
     "id": ""
    }
   },
   "outputs": [],
   "source": [
    "((require? exp) (analyze-require exp))"
   ]
  },
  {
   "cell_type": "markdown",
   "metadata": {},
   "source": [
    "as well the procedure `analyze-require` that handles `require` expressions. Complete the following definition of `analyze-require`."
   ]
  },
  {
   "cell_type": "code",
   "execution_count": null,
   "metadata": {
    "attributes": {
     "classes": [
      "scheme"
     ],
     "id": ""
    }
   },
   "outputs": [],
   "source": [
    "(define (analyze-require exp)\n",
    "  (let ((pproc (analyze \n",
    "                (require-predicate exp))))\n",
    "    (lambda (env succeed fail)\n",
    "      (pproc env\n",
    "             (lambda (pred-value fail2)\n",
    "               (if ⟨??⟩\n",
    "                   ⟨??⟩\n",
    "                   (succeed 'ok fail2)))\n",
    "             fail))))"
   ]
  }
 ],
 "metadata": {},
 "nbformat": 4,
 "nbformat_minor": 4
}
